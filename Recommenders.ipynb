{
 "cells": [
  {
   "cell_type": "markdown",
   "metadata": {},
   "source": [
    "<h1> Choosing a recommender </h1>"
   ]
  },
  {
   "cell_type": "markdown",
   "metadata": {},
   "source": [
    "Running through several combinations of vectorizers, models, and distance metrics to find the best performing combination for the backend of the report recommender."
   ]
  },
  {
   "cell_type": "code",
   "execution_count": 1,
   "metadata": {
    "collapsed": true
   },
   "outputs": [],
   "source": [
    "import numpy as np\n",
    "from pymongo import MongoClient\n",
    "from sklearn.neighbors import NearestNeighbors\n",
    "from sklearn.feature_extraction.text import CountVectorizer, TfidfVectorizer\n",
    "from sklearn.decomposition import LatentDirichletAllocation\n",
    "from sklearn.feature_extraction.stop_words import ENGLISH_STOP_WORDS as stopwords \n",
    "from sklearn.decomposition import NMF, TruncatedSVD\n",
    "from bson.objectid import ObjectId\n",
    "import textract"
   ]
  },
  {
   "cell_type": "code",
   "execution_count": 2,
   "metadata": {
    "collapsed": true
   },
   "outputs": [],
   "source": [
    "client = MongoClient('mongodb://localhost:27017/')\n",
    "db = client.project_4_database"
   ]
  },
  {
   "cell_type": "code",
   "execution_count": 3,
   "metadata": {
    "collapsed": true
   },
   "outputs": [],
   "source": [
    "dc_abbreviations = [abbrev for abbrev in db.crs_abbreviations.find()][0]['DC_abbrevs']"
   ]
  },
  {
   "cell_type": "code",
   "execution_count": 4,
   "metadata": {
    "collapsed": true
   },
   "outputs": [],
   "source": [
    "stopwords = list(stopwords) + dc_abbreviations"
   ]
  },
  {
   "cell_type": "markdown",
   "metadata": {},
   "source": [
    "<h1> Test Texts </h1>"
   ]
  },
  {
   "cell_type": "markdown",
   "metadata": {},
   "source": [
    "Here are a few texts that are either short descriptions of legislation pieces or the full texts of a bill in Congress."
   ]
  },
  {
   "cell_type": "code",
   "execution_count": 5,
   "metadata": {
    "collapsed": true
   },
   "outputs": [],
   "source": [
    "house_hydro = '''\n",
    "H.R. 3043 modernizes the regulatory permitting process and encourages the expansion of hydropower generation by improving administrative efficiency, accountability, and transparency; promotes new hydropower infrastructure; requires balanced and timely decision making; and reduces duplicative oversight.\n",
    "\n",
    "Specifically, the legislation establishes the Federal Energy Regulatory Commission as the lead agency for all hydropower authorizations, approvals, and requirements mandated by federal law. The bill modifies the definition of renewable energy to include hydropower, extends the timeframe for a preliminary permit from 3 to 4 years, and extends the time limit for construction “for not more than 8 additional years.”\n",
    "\n",
    "The legislation also establishes procedures for trial-type hearings conducted by an Administrative Law Judge to resolve disputes relating to conditions and fishway prescriptions under Part I of the Federal Power Act. In addition, the legislation facilitates the timely and efficient completion of license proceedings by minimizing duplication of studies and establishing a program to compile a comprehensive collection of studies and data on a regional or basin-wide scale.\n",
    "'''"
   ]
  },
  {
   "cell_type": "code",
   "execution_count": 6,
   "metadata": {},
   "outputs": [],
   "source": [
    "house_chip =\"\\n\\nWHAT IS CHIP?\\nCHIP is short for the Children's Health Insurance Program - Pennsylvania's program to provide health insurance to uninsured children and teens who are not eligible for or enrolled in Medical Assistance. Nine out of 10 CHIP parents report satisfaction with their child�s health plan, and 96% received an appointment for check-ups and vaccinations as soon as they wanted. There are a lot of reasons kids might not have health insurance - maybe their parents lost a job, don't have health insurance at work or maybe it just costs too much. Whatever the reason, CHIP may be able to help. All families need to do is apply today.\\n\\n\\nNOW THAT HEALTHCARE REFORM HAS BEGUN, IS CHIP STILL AVAILABLE FOR MY CHILDREN?\\nUninsured Pennsylvania children and teens who are not eligible for Medical Assistance have access to affordable, comprehensive health-care coverage. CHIP is still available for uninsured kids and teens. CHIP is  there for your kids with quality, comprehensive health insurance coverage for routine doctor visits, prescriptions, dental, eye care, prescriptions and much more. All families need to do is apply today. For a full list of covered benefits available through CHIP, click here.\\n\\nI thought CHIP was only for low-income families?\\n\\nParents may think their kids can't get CHIP because they make too much money. Not true! CHIP covers uninsured kids and teens up to age 19 who are not eligible for Medical Assistance.\\n\\nWHAT'S THE COST FOR CHIP COVERAGE?\\n\\nFor most families, it's free. Families with incomes above the free CHIP limits will pay low monthly premiums and co-pays for some services. View comprehensive income information (PDF).\\n\\nHOW DOES CHIP PUT INSURANCE WITHIN REACH?\\n\\nCHIP is brought to you by leading health insurance companies who offer your kids quality, comprehensive coverage. You'll have a choice of major insurance companies with large networks of physicians, specialists and care facilities near you.  In fact, your kids may even be able to keep visiting the same doctors they see now. Find a CHIP health insurance company in your county.\\n\\nHOW LONG IS MY CHILD COVERED ONCE THEY ARE ENROLLED IN CHIP?\\n\\nOnce enrolled, children are guaranteed 12 months of CHIP coverage unless they no longer meet the basic eligibility requirements. Families must renew their coverage every year in order for the coverage to continue. CHIP insurance companies send renewal notices 90 days before their benefits are going to end, and families must fill out and send the renewal information back to their CHIP insurance company in order for benefits to continue.\\n\\nI recently gained legal custody of my grandchildren. They are uninsured and need health benefits. Can I apply for CHIP for them?\\n\\nYes! Any legal guardian who is exercising care and control of the children, can apply for CHIP.\\n\\nMY CHILD HAS A PRE-EXISTING CONDITION. WILL THAT AFFECT OUR ELIGIBILITY?\\n\\nPre-existing conditions are covered. There are no exclusions for pre-existing conditions in CHIP or Medical Assistance. However, if your child has a serious medical condition or disability, he or she may be considered for Medical Assistance.\\n\\nDOES CHIP HAVE A WAITING LIST?\\n\\nNo. There is no waiting list to enroll in CHIP.\\n\\nI HAVE MORE QUESTIONS. CAN I TALK TO SOMEONE ABOUT CHIP?\\n\\nCouldn't find the answer you're looking for? Maybe it's under another category in our FAQ section. Check it out. Or, find a CHIP insurance company in your county and give them a call!\\n\\n\\n\""
   ]
  },
  {
   "cell_type": "code",
   "execution_count": 7,
   "metadata": {},
   "outputs": [],
   "source": [
    "hydro_bill = textract.process('/Users/jonathanjramirez/Downloads/BILLS-115hr3043rh.pdf')"
   ]
  },
  {
   "cell_type": "markdown",
   "metadata": {},
   "source": [
    "<h1> Defining classes for text handlers </h1>"
   ]
  },
  {
   "cell_type": "code",
   "execution_count": 8,
   "metadata": {
    "collapsed": true
   },
   "outputs": [],
   "source": [
    "def get_from_mongo(mongo_id, art_name):\n",
    "    \n",
    "    \"\"\"\n",
    "    Given a mongoDB ID and the name of the article, this will return the text from the database.\n",
    "    \"\"\"\n",
    "    \n",
    "    return db.cleaned_pdfs.find({'_id': mongo_id})[0][art_name]"
   ]
  },
  {
   "cell_type": "code",
   "execution_count": 9,
   "metadata": {
    "collapsed": true
   },
   "outputs": [],
   "source": [
    "class text_handler():\n",
    "    \n",
    "    def __init__(self):\n",
    "        \n",
    "        self.total_unique = len([article for article in db.cleaned_pdfs.find()])\n",
    "        \n",
    "       \n",
    "        \n",
    "    def get_vectorizer(self, vectorizer = 'count', ngram_range = (1,2), stop_words = 'english', max_df = 0.6, max_features = 5000):\n",
    "        \n",
    "        \"\"\"\n",
    "        This function allows the user to create either a count vectorizer or a tfidf vectorizer\n",
    "        while setting preferences such as the ngram range any stopwords, max document frequency, and max features.\n",
    "        --------\n",
    "        INPUT:\n",
    "            vectorizer: string (eiter 'count' or 'tfidf' to specify kind of vectorizer)\n",
    "            ngram_range: tuple (min, max)\n",
    "            stop_words: string or list of stop words\n",
    "            max_df: number between 0 and 1 to indicate the maximum percentage of the documents that a term can appear in\n",
    "            max_features: total number of features desired\n",
    "            \n",
    "        OUTPUT:\n",
    "            count or tfidf vectorizer with the desired specifications.\n",
    "        \"\"\"\n",
    "\n",
    "        if vectorizer == 'count':\n",
    "\n",
    "            count_vectorizer = CountVectorizer(ngram_range=ngram_range,  \n",
    "                                       stop_words=stop_words, \n",
    "                                       token_pattern=\"\\\\b[a-z][a-z]+\\\\b\",\n",
    "                                       lowercase=True,\n",
    "                                       max_df = max_df, max_features = max_features)\n",
    "\n",
    "            return count_vectorizer\n",
    "\n",
    "        elif vectorizer == 'tfidf':\n",
    "\n",
    "            tfidf_vectorizer = TfidfVectorizer(ngram_range=ngram_range,  \n",
    "                                       stop_words=stop_words, \n",
    "                                       token_pattern=\"\\\\b[a-z][a-z]+\\\\b\",\n",
    "                                       lowercase=True,\n",
    "                                       max_df = max_df, max_features = max_features)\n",
    "            return tfidf_vectorizer\n",
    "\n",
    "        else:\n",
    "\n",
    "            print(\"Type in either 'count' or 'tfidf'\")\n",
    "            \n",
    "            \n",
    "            \n",
    "    def get_all_docs(self):\n",
    "        \n",
    "        \"\"\"\n",
    "        This function gets all articles from mongoDB.\n",
    "        \"\"\"\n",
    "        \n",
    "        all_unique_articles = [article for article in db.cleaned_pdfs.find()]\n",
    "        \n",
    "        return all_unique_articles\n",
    "\n",
    "\n",
    "\n",
    "    def get_txt(self, article):\n",
    "        \n",
    "        art_name = [key for key in article][1]\n",
    "\n",
    "        art_text = article[art_name]\n",
    "\n",
    "        return (art_name,art_text)\n",
    "\n",
    "\n",
    "    def get_all_texts(self):\n",
    "        \n",
    "        \"\"\"\n",
    "        This function loads all document names and mongoDB _ids into the handler object.\n",
    "        \"\"\"\n",
    "\n",
    "        unique_arts = self.get_all_docs()\n",
    "        \n",
    "        self.doc_names = []\n",
    "        self.doc_ids = []\n",
    "        \n",
    "        for art in unique_arts:\n",
    "            \n",
    "            _id = art['_id']\n",
    "                                \n",
    "            self.doc_ids.append(_id)\n",
    "            \n",
    "            \n",
    "        self.doc_names = []\n",
    "        \n",
    "        for doc in self.doc_ids:\n",
    "            \n",
    "            keys = [key for key in db.cleaned_pdfs.find({'_id': doc})[0]]\n",
    "            \n",
    "            for key in keys:\n",
    "                \n",
    "                if \"R\" in key:\n",
    "                    \n",
    "                    name = key\n",
    "                    self.doc_names.append(key)\n",
    "        \n",
    "        output = []\n",
    "        \n",
    "        for i,key in enumerate(self.doc_names):\n",
    "            \n",
    "            output.append(unique_arts[i][key])\n",
    "            \n",
    "        return output"
   ]
  },
  {
   "cell_type": "code",
   "execution_count": 10,
   "metadata": {
    "collapsed": true
   },
   "outputs": [],
   "source": [
    "handler = text_handler()"
   ]
  },
  {
   "cell_type": "code",
   "execution_count": 11,
   "metadata": {
    "collapsed": true
   },
   "outputs": [],
   "source": [
    "cv = handler.get_vectorizer(vectorizer='count', \n",
    "                            ngram_range=(1,3), \n",
    "                            stop_words = stopwords, \n",
    "                            max_df = 0.1)"
   ]
  },
  {
   "cell_type": "code",
   "execution_count": 12,
   "metadata": {
    "collapsed": true
   },
   "outputs": [],
   "source": [
    "X = cv.fit_transform(handler.get_all_texts())"
   ]
  },
  {
   "cell_type": "markdown",
   "metadata": {},
   "source": [
    "In order to compare documents by the strength of words (and eventually the strength of topics), we need to put each document on the same scale."
   ]
  },
  {
   "cell_type": "code",
   "execution_count": 13,
   "metadata": {
    "collapsed": true
   },
   "outputs": [],
   "source": [
    "def normalize(sparse_matrix):\n",
    "    \n",
    "    from sklearn.preprocessing import Normalizer\n",
    "    import numpy as np\n",
    "    from scipy import sparse\n",
    "\n",
    "    n = Normalizer()\n",
    "    n.fit(sparse_matrix.toarray())\n",
    "\n",
    "    X = n.transform(sparse_matrix.toarray())\n",
    "    \n",
    "    X_sparse_cv = sparse.csr_matrix(X)\n",
    "    \n",
    "    return X_sparse_cv\n"
   ]
  },
  {
   "cell_type": "code",
   "execution_count": 14,
   "metadata": {
    "collapsed": true
   },
   "outputs": [],
   "source": [
    "X = normalize(X)"
   ]
  },
  {
   "cell_type": "code",
   "execution_count": 94,
   "metadata": {
    "collapsed": true
   },
   "outputs": [],
   "source": [
    "class recommender():\n",
    "    \n",
    "    def __init__(self, handler):\n",
    "        \n",
    "        self.model_dict = {}\n",
    "        self.new_article = None\n",
    "        self.recommendations = []\n",
    "        self.handler = handler\n",
    "\n",
    "    def get_recommendations(self, new_article, model, vectorizer, training_vectors,n_neighbors, method, metric = 'cosine'):\n",
    "        \n",
    "        \"\"\"\n",
    "        INPUT:\n",
    "            new_article: string - This is the new article for which the user will generate a recommended reading list\n",
    "            model: model (e.g. nmf, lsa, lda) - \n",
    "            vectorizer: the vectorizer used (e.g. cv or tfidf)\n",
    "            training_vectors: the vectorized and normalized data\n",
    "            n_neighbors: number of recommendations desired\n",
    "            method: string - to keep track of the results per combination\n",
    "            metric = 'cosine': can try 'euclidean' for euclidean distance\n",
    "            \n",
    "        OUTPUT:\n",
    "            array of ints which are the index numbers of the name and mongoDB object ids.\n",
    "        \"\"\"\n",
    "        \n",
    "        self.new_article = new_article\n",
    "        \n",
    "        new_vec = model.transform(\n",
    "            vectorizer.transform([new_article]))\n",
    "        \n",
    "        nn = NearestNeighbors(n_neighbors=n_neighbors, metric=metric, algorithm='brute')\n",
    "        \n",
    "        nn.fit(training_vectors)\n",
    "        \n",
    "        results = nn.kneighbors(new_vec)\n",
    "        \n",
    "        self.model_dict[method] = (vectorizer, training_vectors)\n",
    "        \n",
    "        self.recommendations.append(results[1][0])\n",
    "        \n",
    "        return results[1][0]\n",
    "    "
   ]
  },
  {
   "cell_type": "code",
   "execution_count": 16,
   "metadata": {
    "collapsed": true
   },
   "outputs": [],
   "source": [
    "rec = recommender(handler)"
   ]
  },
  {
   "cell_type": "code",
   "execution_count": 17,
   "metadata": {
    "collapsed": true
   },
   "outputs": [],
   "source": [
    "n_topics = 30\n",
    "n_iter = 30\n",
    "lda = LatentDirichletAllocation(n_components=n_topics,\n",
    "                                max_iter=n_iter,\n",
    "                                random_state=42,\n",
    "                               learning_method='online')"
   ]
  },
  {
   "cell_type": "code",
   "execution_count": 18,
   "metadata": {
    "collapsed": true
   },
   "outputs": [],
   "source": [
    "data = lda.fit_transform(X)"
   ]
  },
  {
   "cell_type": "code",
   "execution_count": 19,
   "metadata": {},
   "outputs": [
    {
     "data": {
      "text/plain": [
       "array([2536, 2690, 2274, 2261,  959, 3454, 2057, 2292, 1015, 2270])"
      ]
     },
     "execution_count": 19,
     "metadata": {},
     "output_type": "execute_result"
    }
   ],
   "source": [
    "rec.get_recommendations(new_article=house_chip, model = lda, vectorizer=cv,\n",
    "                       training_vectors = lda.transform(X), n_neighbors = 10, method = 'lda_cv')"
   ]
  },
  {
   "cell_type": "code",
   "execution_count": 143,
   "metadata": {},
   "outputs": [
    {
     "data": {
      "text/plain": [
       "'Comparing Medicaid and Exchanges: Benefits and Costs for Individuals and Families Evelyne P Baumrucker Analyst in Health Care Financing Bernadette Fernandez Specialist in Health Care Financing June ,   Congressional Research Service - wwwcrs  R  CRS Report for Congress Prepared for Members and Committees of Congress  \\x0cComparing Medicaid and Exchanges: Benefits and Costs for Individuals and Families  Summary The Patient Protection and Affordable Care Act ACA, PL -, as amended expands health insurance coverage primarily through two mechanisms: by expanding the existing Medicaid program and by establishing new health insurance exchanges where certain individuals and businesses can purchase private health insurance Under ACA, Medicaid and exchanges are envisioned to work in tandem, with the potential to provide a continuous source of subsidized coverage for lower-income individuals and families, beginning in  On June , , the US Supreme Court issued a decision in National Federation of Independent Business v Sebelius The Court held that the federal government cannot terminate current Medicaid program federal matching funds if a state does not expand its Medicaid program, effectively making the ACA expansion optional As a result, some states may choose not to expand their Medicaid program Individuals who are eligible for Medicaid are not eligible for subsidies in exchange plans Thus, some individuals in these states would not be eligible for Medicaid and could become eligible for subsidized exchange coverage, while others may remain uninsured Individuals who receive coverage through exchange plans will likely not receive the same benefits offered by the Medicaid program, and vice versa For example, traditional Medicaid provides a wide range of benefits to certain beneficiaries that are not typically covered in major medical plans in the private market, such as non-emergency transportation services or Early Periodic Screening, Diagnosis, and Treatment EPSDT Exchange plans will reflect a typical private health insurance plan offered by employers, which generally includes a wide range of benefits, but not necessarily all, that are offered to various Medicaid groups of individuals Exchange plans will be required to offer essential health benefits, which include preventive services with no cost-sharing, a benefit available to many, but not all, Medicaid beneficiaries Thus there will likely be differences in available benefits for some individuals, depending on whether they are covered by Medicaid or exchange plans In lieu of traditional Medicaid benefits, states can choose to offer an alternative set of benefits benchmark and benchmark-equivalent coverage that will include the essential health benefits, but only to certain groups of Medicaid beneficiaries This alternative set of benefits has the potential to more closely align the benefits under Medicaid and the exchange for certain individuals In addition to differences in benefits, there may also be diffe'"
      ]
     },
     "execution_count": 143,
     "metadata": {},
     "output_type": "execute_result"
    }
   ],
   "source": [
    "get_from_mongo(mongo_id=handler.doc_ids[2536], art_name = handler.doc_names[2536])[:3000]"
   ]
  },
  {
   "cell_type": "markdown",
   "metadata": {},
   "source": [
    "This recommendation seems inline with the topic as a whole. How does it do with the hydro bill summary?"
   ]
  },
  {
   "cell_type": "code",
   "execution_count": 20,
   "metadata": {},
   "outputs": [
    {
     "data": {
      "text/plain": [
       "array([1708, 3624, 3772, 3600, 2070,  837, 2696, 2646,  166, 2460])"
      ]
     },
     "execution_count": 20,
     "metadata": {},
     "output_type": "execute_result"
    }
   ],
   "source": [
    "rec.get_recommendations(new_article=house_hydro, model = lda, vectorizer=cv,\n",
    "                       training_vectors = lda.transform(X), n_neighbors = 10, method = 'lda_cv')"
   ]
  },
  {
   "cell_type": "code",
   "execution_count": 144,
   "metadata": {},
   "outputs": [
    {
     "data": {
      "text/plain": [
       "'Previewing a  Farm Bill Rene Johnson, Coordinator Specialist in Agricultural Policy March ,   Congressional Research Service - wwwcrs  R  \\x0cPreviewing a  Farm Bill  Summary Congress periodically establishes agricultural and food policy in an omnibus farm bill The th Congress faces reauthorization of the  farm billthe Agricultural Act of  PL -, HRept -because many of its provisions expire in  The  farm bill is the most recent omnibus farm bill It was enacted in February  and succeeded the Food, Conservation, and Energy Act of  PL -,  farm bill In recent decades, the breadth of farm bills has steadily grown to include new and expanding food and agricultural interests The  farm bill contains  titles encompassing farm commodity revenue supports, farm credit, trade, agricultural conservation, research, rural development, energy, and foreign and domestic food programs, among other programs Provisions in the  farm bill reshaped the structure of farm commodity support, expanded crop insurance coverage, consolidated conservation programs, reauthorized and revised nutrition assistance, and extended authority to appropriate funds for many US Department of Agriculture USDA discretionary programs through FY When the  farm bill was enacted, the Congressional Budget Office CBO estimated that the total cost of mandatory programs would be $ billion over the five years FY-FY Four titles accounted for  percent  $ billion of anticipated farm bill mandatory program outlays: nutrition, crop insurance, conservation, and farm commodity support The nutrition title, which includes the Supplemental Nutrition Assistance Program SNAP, comprised  percent  of the total, with the remaining  percent  mostly geared toward agricultural production across other titles Traditionally, a primary focus of omnibus farm bills has been commodity-based revenue support policynamely, the methods and levels of federal support provided to agricultural producers The  farm bill amended US farm safety net programs by expanding crop insurance provisions and modifying counter-cyclical support while eliminating direct payments to growers of grains, cotton, and peanuts Upland cotton was removed from eligibility for participation in the new revenue support programs as part of compliance with a World Trade Organization dispute settlement case with Brazil Instead, cotton producers were offered an insurance-like support program that protects against within-season revenue shortfalls Another major change involved dairy: Previous support programs were replaced with a new insurance-like margin program that insures against shortfalls in the difference between milk prices and feed costs Most farm program proponents agree that the new cotton and dairy programs have performed ineffectively and are likely to see proposals for change Other farm interest groups, however, continue to point to competing policy prioritiescovering a range of equity concerns across the entire farm sectorand call for enhanced support for s'"
      ]
     },
     "execution_count": 144,
     "metadata": {},
     "output_type": "execute_result"
    }
   ],
   "source": [
    "get_from_mongo(mongo_id=handler.doc_ids[1708], art_name = handler.doc_names[1708])[:3000]"
   ]
  },
  {
   "cell_type": "markdown",
   "metadata": {},
   "source": [
    "This is not an idea match for a bill about clean energy and the environment."
   ]
  },
  {
   "cell_type": "markdown",
   "metadata": {},
   "source": [
    "<h1>TFIDF</h1>"
   ]
  },
  {
   "cell_type": "code",
   "execution_count": 22,
   "metadata": {
    "collapsed": true
   },
   "outputs": [],
   "source": [
    "tfidf = handler.get_vectorizer(vectorizer='tfidf', ngram_range=(1,3),stop_words=stopwords, max_df = 0.1)"
   ]
  },
  {
   "cell_type": "code",
   "execution_count": 23,
   "metadata": {
    "collapsed": true
   },
   "outputs": [],
   "source": [
    "X2 = normalize(tfidf.fit_transform(handler.get_all_texts()))"
   ]
  },
  {
   "cell_type": "code",
   "execution_count": 24,
   "metadata": {
    "collapsed": true
   },
   "outputs": [],
   "source": [
    "n_topics = 30\n",
    "n_iter = 30\n",
    "lda2 = LatentDirichletAllocation(n_components=n_topics,\n",
    "                                max_iter=n_iter,\n",
    "                                random_state=42,\n",
    "                               learning_method='online')"
   ]
  },
  {
   "cell_type": "code",
   "execution_count": 25,
   "metadata": {
    "collapsed": true
   },
   "outputs": [],
   "source": [
    "data2 = lda2.fit_transform(X2)"
   ]
  },
  {
   "cell_type": "code",
   "execution_count": 26,
   "metadata": {},
   "outputs": [
    {
     "data": {
      "text/plain": [
       "array([1734, 2940, 1556, 3454, 2146, 2594, 2274, 2292, 2270,  932])"
      ]
     },
     "execution_count": 26,
     "metadata": {},
     "output_type": "execute_result"
    }
   ],
   "source": [
    "rec.get_recommendations(new_article=house_chip, model = lda2, vectorizer=tfidf,\n",
    "                       training_vectors = lda2.transform(X2), n_neighbors = 10, method = 'lda_tfidf')"
   ]
  },
  {
   "cell_type": "code",
   "execution_count": 145,
   "metadata": {},
   "outputs": [
    {
     "data": {
      "text/plain": [
       "'Finding Medicare Enrollment Statistics Michele L Malloy Research Librarian June ,   Congressional Research Service - wwwcrs  R  \\x0cFinding Medicare Enrollment Statistics  Contents Purpose and Scope  Categories and Definitions   Selected Sources for Medicare Enrollment Statistics   Centers for Medicare & Medicaid Services   Medicare Enrollment Dashboard   Medicare Enrollment Reports   Congressional District Report   Medicare Advantage/Part D Contract and Enrollment Data   CMS Program Statistics   CMS Fast Facts   Medicare-Medicaid Coordination Office: Analytic Reports and Data Resources   CMS Office of Legislation Contact Information   Medicare Board of Trustees   Medicare Board of Trustees Annual Report   Medicare Payment Advisory Commission   MedPAC Reports   Data Book: Health Care Spending and the Medicare Program  Americas Health Insurance Plans  Trends in Medigap Enrollment and Coverage Options  Beneficiaries with Medigap Coverage    Figures Figure  Medicare Enrollment Dashboard    Tables Table  Selected Sources for Medicare Enrollment Statistics    Contacts Author Contact Information    Congressional Research Service  \\x0cFinding Medicare Enrollment Statistics  Purpose and Scope There is no single source for Medicare enrollment statistics Various sources described in this report present different breakdowns of enrollment data, including coverage type Parts A, B, C, and D, beneficiary type aged, disabled, and geographic area This report provides guidance in determining the most current sources for different categories of enrollment data The report presents basic categories and definitions for terms related to Medicare enrollment data, a quick reference table that summarizes key data available in selected resources, and a more detailed overview of core resources  Categories and Definitions This section provides basic definitions of Medicare coverage and beneficiary types in order to aid users in identifying the most useful sources for their questions Because different sources may use a variety of terms and abbreviations to refer to the same data, this section also includes commonly used synonyms for different types of Medicare coverage For more background information on Medicare, please see CRS Report R, Medicare Primer, coordinated by Patricia A Davis      Total Enrollment: Includes all beneficiaries aged and disabled and all Medicare parts A, B, C, D Enrollment in Geographic Area  National, state, territory, county, or congressional district Enrollment for Beneficiary Type  Beneficiaries become eligible for Medicare based on age or disability Enrollment in Type of Coverage  Beneficiaries may be enrolled in more than one part of Medicare Most persons aged  or older are automatically entitled to premium-free Part A based on their payment of Medicare payroll taxes, whereas other parts are voluntary   Part A: Provides coverage for inpatient hospital services, posthospital skilled nursing facility SNF services, hospice care, and some home health servi'"
      ]
     },
     "execution_count": 145,
     "metadata": {},
     "output_type": "execute_result"
    }
   ],
   "source": [
    "get_from_mongo(mongo_id=handler.doc_ids[1734], art_name = handler.doc_names[1734])[:3000]"
   ]
  },
  {
   "cell_type": "markdown",
   "metadata": {},
   "source": [
    "Again, this is a reasonable recommendation, but does using TFIDF fare better with the hydro bill?"
   ]
  },
  {
   "cell_type": "code",
   "execution_count": 27,
   "metadata": {},
   "outputs": [
    {
     "data": {
      "text/plain": [
       "array([2475,  984, 2752, 3541, 3172, 2296, 3063, 2978, 1415, 2084])"
      ]
     },
     "execution_count": 27,
     "metadata": {},
     "output_type": "execute_result"
    }
   ],
   "source": [
    "rec.get_recommendations(new_article=house_hydro, model = lda2, vectorizer=tfidf,\n",
    "                       training_vectors = lda2.transform(X2), n_neighbors = 10, method = 'lda_tfidf')"
   ]
  },
  {
   "cell_type": "code",
   "execution_count": 146,
   "metadata": {},
   "outputs": [
    {
     "data": {
      "text/plain": [
       "'The Federal Minimum Wage: In Brief David H Bradley Specialist in Labor Economics June ,   Congressional Research Service - wwwcrs  R  \\x0cThe Federal Minimum Wage: In Brief  Summary The Fair Labor Standards Act FLSA, enacted in , is the federal legislation that establishes the minimum hourly wage that must be paid to all covered workers The minimum wage provisions of the FLSA have been amended numerous times since , typically for the purpose of expanding coverage or raising the wage rate Since its establishment, the minimum wage rate has been raised  separate times The most recent change was enacted in  PL -, which increased the minimum wage to its current level of $ per hour In addition to setting the federal minimum wage rate, the FLSA provides for several exemptions and subminimum wage categories for certain classes of workers and types of work Even with these exemptions, the FLSA minimum wage provisions still cover the vast majority of the workforce Despite this broad coverage, however, the minimum wage directly affects a relatively small portion of the workforce Currently, there are approximately  million workers, or  percent  of all hourly paid workers, whose wages are at or below the federal minimum wage of $ per hour Most minimum wage workers are female, are age  or older, work part time, and are in food service occupations Proponents of increasing the federal minimum wage argue that it may increase earnings for lower income workers, lead to reduced turnover, and increase aggregate demand by providing greater purchasing power for workers receiving a pay increase Opponents of increasing the federal minimum wage argue that it may result in reduced employment or reduced hours, lead to a general price increase, and reduce profits of firms paying a higher minimum wage  Congressional Research Service  \\x0cThe Federal Minimum Wage: In Brief  Contents The Federal Minimum Wage   FLSA Minimum Wage Coverage   Enterprise Coverage   Individual Coverage   Exemptions and Subminimum Wages   Excluded from FLSA Minimum Wage Coverage   Subminimum Wages   Characteristics of Minimum Wage Workers   State Minimum Wages  Arguments For and Against Raising the Minimum Wage   Arguments For Increasing the Minimum Wage   Increases Earnings   Increases Aggregate Demand   Reduces Inequality   Reduces Employee Turnover   Arguments Against Increasing the Minimum Wage   Reduces Employment   Does Not Reduce Poverty   Increases Prices   Reduces Profits    Tables Table  Selected Characteristics of Workers Earning at or Below the Federal Minimum Wage    Contacts Author Contact Information    Congressional Research Service  \\x0cThe Federal Minimum Wage: In Brief  The Federal Minimum Wage The Fair Labor Standards Act FLSA, enacted in , is the federal legislation that establishes the general minimum wage that must be paid to all covered workers A full discussion of the coverage of the minimum wage is beyond the scope of this report, which provides only a broad overview of the topic In ge'"
      ]
     },
     "execution_count": 146,
     "metadata": {},
     "output_type": "execute_result"
    }
   ],
   "source": [
    "get_from_mongo(mongo_id=handler.doc_ids[2475], art_name = handler.doc_names[2475])[:3000]"
   ]
  },
  {
   "cell_type": "markdown",
   "metadata": {},
   "source": [
    "Unforunately, it recommends a PDF on the minimum wage."
   ]
  },
  {
   "cell_type": "markdown",
   "metadata": {},
   "source": [
    "<h1> NMF CV </h1>"
   ]
  },
  {
   "cell_type": "markdown",
   "metadata": {},
   "source": [
    "Ultimately, NMF + CV produces the most reasonable recommendations for the two test cases."
   ]
  },
  {
   "cell_type": "code",
   "execution_count": 29,
   "metadata": {
    "collapsed": true
   },
   "outputs": [],
   "source": [
    "import pickle"
   ]
  },
  {
   "cell_type": "code",
   "execution_count": 30,
   "metadata": {
    "collapsed": true
   },
   "outputs": [],
   "source": [
    "def pickle_dis(dis,dis_name):\n",
    "    \n",
    "    output = open(dis_name + '.pkl', 'wb')\n",
    "\n",
    "    pickle.dump(dis, output)\n",
    "\n",
    "    output.close()\n",
    "    \n",
    "def unpickle_dis(dis):\n",
    "    \n",
    "    pkl_file = open(dis, 'rb')\n",
    "\n",
    "    data = pickle.load(pkl_file)\n",
    "\n",
    "    pkl_file.close()\n",
    "    \n",
    "    return data"
   ]
  },
  {
   "cell_type": "code",
   "execution_count": 31,
   "metadata": {
    "collapsed": true
   },
   "outputs": [],
   "source": [
    "n_topics = 30\n",
    "n_iter = 30\n",
    "\n",
    "#Instantiate an NMF\n",
    "nmf = NMF(n_components=n_topics, max_iter=n_iter, random_state=42)"
   ]
  },
  {
   "cell_type": "code",
   "execution_count": 32,
   "metadata": {
    "collapsed": true
   },
   "outputs": [],
   "source": [
    "pickle_dis(nmf, 'nmf')"
   ]
  },
  {
   "cell_type": "code",
   "execution_count": 33,
   "metadata": {
    "collapsed": true
   },
   "outputs": [],
   "source": [
    "#Be sure to fit transform and normalize your data.\n",
    "\n",
    "X3 = normalize(cv.fit_transform(handler.get_all_texts()))"
   ]
  },
  {
   "cell_type": "code",
   "execution_count": 34,
   "metadata": {
    "collapsed": true
   },
   "outputs": [],
   "source": [
    "pickle_dis(X3, 'X')"
   ]
  },
  {
   "cell_type": "code",
   "execution_count": 35,
   "metadata": {
    "collapsed": true
   },
   "outputs": [],
   "source": [
    "#Now to put the data into topic space from word space.\n",
    "\n",
    "nmf_data = nmf.fit_transform(X3)"
   ]
  },
  {
   "cell_type": "code",
   "execution_count": 36,
   "metadata": {
    "collapsed": true
   },
   "outputs": [],
   "source": [
    "pickle_dis(nmf_data, 'nmf_data')"
   ]
  },
  {
   "cell_type": "code",
   "execution_count": 37,
   "metadata": {
    "collapsed": true
   },
   "outputs": [],
   "source": [
    "pickle_dis(cv, 'cv')"
   ]
  },
  {
   "cell_type": "code",
   "execution_count": 38,
   "metadata": {},
   "outputs": [
    {
     "data": {
      "text/plain": [
       "array([2126, 2106, 2239,  557, 2705])"
      ]
     },
     "execution_count": 38,
     "metadata": {},
     "output_type": "execute_result"
    }
   ],
   "source": [
    "rec.get_recommendations(new_article=house_chip, \n",
    "                        model = nmf, \n",
    "                        vectorizer=cv,\n",
    "                        training_vectors=nmf.transform(X3), \n",
    "                        n_neighbors=5, method = 'nmf_cv')\n"
   ]
  },
  {
   "cell_type": "code",
   "execution_count": 147,
   "metadata": {},
   "outputs": [
    {
     "data": {
      "text/plain": [
       "'CHIP and the ACA Maintenance of Effort MOE Requirement: In Brief Alison Mitchell Specialist in Health Care Financing Evelyne P Baumrucker Specialist in Health Care Financing September ,   Congressional Research Service - wwwcrs  R  \\x0cCHIP and the ACA Maintenance of Effort MOE Requirement: In Brief  Summary The State Childrens Health Insurance Program CHIP is a means-tested program that provides health coverage to targeted low-income children and pregnant women in families that have annual income above Medicaid eligibility levels but do not have health insurance CHIP is jointly financed by the federal government and the states and administered by the states The federal government sets basic requirements for CHIP, but states have the flexibility to design their own version of CHIP within the federal governments basic framework States may design their CHIP programs in three ways: a CHIP Medicaid expansion, a separate CHIP program, or a combination approach in which the state operates a CHIP Medicaid expansion and one or more separate CHIP programs concurrently As a result, there is significant variation across CHIP programs In FY, CHIP enrollment totaled  million and federal and state CHIP expenditures totaled $ billion Under the CHIP statute, FY is the last year federal CHIP funding is provided, even though the Patient Protection and Affordable Care Act ACA; PL -, as amended child maintenance of effort MOE requirement is in place through FY The MOE provision requires states to maintain income eligibility levels for CHIP children through September , , as a condition for receiving federal Medicaid payments notwithstanding the lack of corresponding federal CHIP appropriations for FY and FY The MOE requirement impacts CHIP Medicaid expansion programs and separate CHIP programs differently     For CHIP Medicaid expansion programs, when federal CHIP funding is exhausted, the CHIP-eligible children in these programs will continue to be enrolled in Medicaid but financing will switch from CHIP to Medicaid For separate CHIP programs, states are provided a couple of exceptions to the MOE requirement:  states may impose waiting lists or enrollment caps to limit CHIP expenditures, and  after September , , states may enroll CHIPeligible children in qualified health plans in the health insurance exchanges In addition, in the event that a states CHIP allotment is insufficient to fund CHIP coverage for all eligible children, a state must establish procedures to screen children for Medicaid eligibility and enroll those who are Medicaid eligible For children not eligible for Medicaid, the state must establish procedures to enroll CHIP children in qualified health plans in the health insurance exchanges that have been certified by the Secretary of Health and Human Services to be at least comparable to CHIP in terms of benefits and cost sharing  This report discusses the ACA MOE requirement for children if federal CHIP funding expires It begins with a brief background a'"
      ]
     },
     "execution_count": 147,
     "metadata": {},
     "output_type": "execute_result"
    }
   ],
   "source": [
    "get_from_mongo(handler.doc_ids[2126], handler.doc_names[2126])[:3000]"
   ]
  },
  {
   "cell_type": "markdown",
   "metadata": {},
   "source": [
    "Again, a reasonable recommendation, but will it give a good recommendation for the hydro power bill?"
   ]
  },
  {
   "cell_type": "code",
   "execution_count": 40,
   "metadata": {},
   "outputs": [
    {
     "data": {
      "text/plain": [
       "array([2879, 3484, 2372, 2741, 2614])"
      ]
     },
     "execution_count": 40,
     "metadata": {},
     "output_type": "execute_result"
    }
   ],
   "source": [
    "rec.get_recommendations(new_article=house_hydro, \n",
    "                        model = nmf, \n",
    "                        vectorizer=cv,\n",
    "                        training_vectors=nmf.transform(X3), \n",
    "                        n_neighbors=5, method = 'nmf_cv')"
   ]
  },
  {
   "cell_type": "markdown",
   "metadata": {},
   "source": [
    "The recommendations seem to be about clean energy, exactly the kind that would help build a background on the topic as a whole."
   ]
  },
  {
   "cell_type": "code",
   "execution_count": 140,
   "metadata": {},
   "outputs": [
    {
     "data": {
      "text/plain": [
       "'Algaes Potential as a Transportation Biofuel Kelsi Bracmort Specialist in Agricultural Conservation and Natural Resources Policy April ,   Congressional Research Service - wwwcrs  R  CRS Report for Congress Prepared for Members and Committees of Congress  \\x0cAlgaes Potential as a Transportation Biofuel  Summary Congress continues to debate the federal role in biofuel research, biofuel tax incentives, and renewable fuel mandates The debate touches on topics such as fuel imports and security, job creation, and environmental benefits, and is particularly significant for advanced biofuels, such as those produced by algae Congress established the Renewable Fuel Standard RFSa mandate requiring that the national fuel supply contain a minimum amount of fuel produced from renewable biomass The RFS is essentially composed of two biofuel mandatesone for unspecified biofuel, which is being met with corn-starch ethanol, and one for advanced biofuels or non-corn starch ethanol, which may not be met in coming years Within the advanced biofuels category, the RFS requirements for the cellulosic biofuels subcategory eg, ethanol from switchgrass have not been met for the last few years, which could cause alarm, as this subcategory is slated to ramp up from roughly  percent  of the standard in  to roughly  percent  of the standard in  Limited cellulosic biofuels production has occurred to date As a result, as allowed under the RFS, the Environmental Protection Agency EPA has lowered the required cellulosic biofuels volume for , , and  and has proposed to do the same for  Currently, algae-based biofuel qualifies as an advanced biofuel under the RFS, but not as a cellulosic biofuel One possible solution to meet the RFS cellulosic biofuels mandate is to add algae as an eligible feedstock type Because algae is not cellulosic and is not defined as such in the RFS, it does not qualify for this subcategory Algae does qualify as a feedstock for the biomass-based diesel subcategory of the RFS advanced biofuel mandate The RFS does not mandate rapid growth of biomass-based diesel, as it does for cellulosic biofuels Algae can be converted into various types of energy for transportation, including biodiesel, jet fuel, electric power, and ethanol The potential advantages of algae-based biofuel over other biofuel pathways include higher biomass yields per acre of cultivation, little to no competition for arable land, use of a wide variety of water sources, the opportunity to reuse carbon dioxide from stationary sources, and the potential to produce drop-in ready-to-use fuels Potential drawbacks include the anticipated cost of production, the amount of resources eg, water and land required to produce the biofuel, and the lack of commercial-scale production facilities Algae-based biofuel research and development are in their infancy, although work has been conducted in this area for decades At present, published research efforts offer policymakers little guidance on what algae types o'"
      ]
     },
     "execution_count": 140,
     "metadata": {},
     "output_type": "execute_result"
    }
   ],
   "source": [
    "get_from_mongo(handler.doc_ids[2879], handler.doc_names[2879])[:3000]"
   ]
  },
  {
   "cell_type": "code",
   "execution_count": 141,
   "metadata": {},
   "outputs": [
    {
     "data": {
      "text/plain": [
       "'Renewable Fuel Standard RFS  Overview and Issues Randy Schnepf Specialist in Agricultural Policy Brent D Yacobucci Section Research Manager March ,   Congressional Research Service - wwwcrs  R  CRS Report for Congress Prepared for Members and Committees of Congress  \\x0cRenewable Fuel Standard RFS  Overview and Issues  Summary Federal policy has played a key role in the emergence of the US biofuels industry Policy measures include minimum renewable fuel usage requirements, blending and production tax credits, an import tariff, loans and loan guarantees, and research grants One of the more prominent forms of federal policy support is the Renewable Fuel Standard RFSwhereby a minimum volume of biofuels is to be used in the national transportation fuel supply each year This report describes the general nature of the RFS mandate and its implementation, and outlines some emerging issues related to the continued growth of US biofuels production needed to fulfill the expanding RFS mandate, as well as the emergence of potential unintended consequences of this rapid expansion Congress first established the RFS with the enactment of the Energy Policy Act of  EPAct, PL - This initial RFS referred to as RFS mandated that a minimum of  billion gallons be used in , rising to  billion gallons by  Two years later, the Energy Independence and Security Act of  EISA, PL - greatly expanded the biofuel mandate volumes and extended the date through  The expanded RFS referred to as RFS required the annual use of  billion gallons of biofuels in , rising to  billion gallons in , with at least  billion gallons from cellulosic biofuels, and a cap of  billion gallons for corn-starch ethanol In addition to the expanded volumes and extended date, RFS has three important distinctions from RFS First, the total renewable fuel requirement is divided into four separate, but nested categoriestotal renewable fuels, advanced biofuels, biomass-based diesel, and cellulosic biofuelseach with its own volume requirement Second, biofuels qualifying under each category must achieve certain minimum thresholds of lifecycle greenhouse gas GHG emission reductions, with certain exceptions applicable to existing facilities Third, all renewable fuel must be made from feedstocks that meet an amended definition of renewable biomass, including certain land use restrictions The Environmental Protection Agency EPA is responsible for establishing and implementing regulations to ensure that the nations transportation fuel supply contains the mandated biofuels volumes EPAs initial regulations for administering RFS issued in April  established detailed compliance standards for fuel suppliers, a tracking system based on renewable identification numbers RINs with credit verification and trading, special treatment of small refineries, and general waiver provisions EPA rules for administering RFS issued in February  built upon the earlier RFS regulations and include specific deadlines for announcing annual standar'"
      ]
     },
     "execution_count": 141,
     "metadata": {},
     "output_type": "execute_result"
    }
   ],
   "source": [
    "get_from_mongo(handler.doc_ids[3484], handler.doc_names[3484])[:3000]"
   ]
  },
  {
   "cell_type": "code",
   "execution_count": 43,
   "metadata": {
    "collapsed": true
   },
   "outputs": [],
   "source": [
    "pickle_dis(rec, 'rec')\n",
    "pickle_dis(handler, 'handler')"
   ]
  },
  {
   "cell_type": "code",
   "execution_count": 66,
   "metadata": {
    "collapsed": true
   },
   "outputs": [],
   "source": [
    "chip_bill = textract.process('/Users/jonathanjramirez/Downloads/BILLS-115hr2843ih.pdf')"
   ]
  },
  {
   "cell_type": "code",
   "execution_count": 142,
   "metadata": {},
   "outputs": [
    {
     "data": {
      "text/plain": [
       "'Who Pays for Long-Term Services and Supports? A Fact Sheet Kirsten J Colello Specialist in Health and Aging Policy Scott R Talaga Analyst in Health Care Financing July ,   Congressional Research Service - wwwcrs  R  \\x0cWho Pays for Long-Term Services and Supports? A Fact Sheet  L  ong-term services and supports LTSS refer to a broad range of health and health-related services and supports that are needed by individuals over an extended period of time The need for LTSS affects persons of all ages and is generally measured by limitations in an individuals ability to perform daily personal care activities eg, eating, bathing, dressing, walking or activities that allow individuals to live independently in the community eg, shopping, housework, meal preparation The most recent published data estimating the number of Americans in need of LTSS indicate that about  million individuals living in the community need LTSS, or  percent  of the community-resident population It was estimated another  million individuals needing LTSS live in an institutional setting, such as a nursing home  Total US spending on formal or paid LTSS is a significant component of all personal health care spending In , an estimated $ billion was spent on LTSS, representing  percent  of the $ trillion spent on personal health expenditures Spending for LTSS includes payments for services in nursing facilities, and in residential care facilities for individuals with intellectual and developmental disabilities, mental health conditions, and substance abuse issues Spending also includes LTSS provided in an individuals own home, such as home health, personal care, and homemaker or chore services eg, housework or meal preparation, as well as a wide range of home and community-based services HCBS, including adult day health services A substantial amount of LTSS is also provided by informal caregiversfamily and friendswho provide care without compensation As a result, spending on LTSS may be underestimated, as spending data do not include uncompensated care provided by informal caregivers This report provides information on who the primary LTSS payers are and how much they spend  Who Pays for Long-Term Services and Supports? Formal LTSS are paid by a variety of public and private sources Figure  shows LTSS spending by payer for  Public sources account for the majority of LTSS spending  percent  Medicaid and Medicare are the first- and second-largest public payers, respectively, and accounted for nearly two-thirds  percent  of all LTSS spending nationwide in  Other public programs that finance LTSS for specific populations provide a much smaller share of total LTSS funding  percent  These public sources of funding include the Veterans Health Administration VHA and Childrens Health Insurance Program CHIP, among others It is important to note that the eligibility requirements and benefits provided by these public programs vary widely Moreover,    H S Kaye, C Harrington, and M P LaPlante, Long-Ter'"
      ]
     },
     "execution_count": 142,
     "metadata": {},
     "output_type": "execute_result"
    }
   ],
   "source": [
    "chip_bill_recs = rec.get_recommendations(new_article=chip_bill, \n",
    "                        model = nmf, \n",
    "                        vectorizer=cv,\n",
    "                        training_vectors=nmf.transform(X3), \n",
    "                        n_neighbors=5, method = 'nmf_cv')\n",
    "\n",
    "first_rec = chip_bill_recs[0]\n",
    "\n",
    "get_from_mongo(handler.doc_ids[first_rec], handler.doc_names[first_rec])[:3000]"
   ]
  },
  {
   "cell_type": "markdown",
   "metadata": {},
   "source": [
    "The recommended readings do appear to be in within the topics of the bills.\n",
    "\n",
    "Let's do a sanity check to make sure that the topics themselves make sense."
   ]
  },
  {
   "cell_type": "code",
   "execution_count": 137,
   "metadata": {
    "collapsed": true
   },
   "outputs": [],
   "source": [
    "def display_topics(model, feature_names, no_top_words, topic_names=None):\n",
    "    for ix, topic in enumerate(model.components_):\n",
    "        if not topic_names or not topic_names[ix]:\n",
    "            print(\"\\nTopic \", ix)\n",
    "        else:\n",
    "            print(\"\\nTopic: '\",topic_names[ix],\"'\")\n",
    "        print(\", \".join([feature_names[i]\n",
    "                        for i in topic.argsort()[:-no_top_words - 1:-1]]))"
   ]
  },
  {
   "cell_type": "code",
   "execution_count": 138,
   "metadata": {},
   "outputs": [
    {
     "name": "stdout",
     "output_type": "stream",
     "text": [
      "\n",
      "Topic  0\n",
      "tsa, passenger, cargo, airport, cbp, faa, airports, transportation security, passengers, explosives\n",
      "\n",
      "Topic  1\n",
      "aca, premiums, care act, affordable care, cost sharing, affordable care act, enrollment, cms, protection affordable, protection affordable care\n",
      "\n",
      "Topic  2\n",
      "carbon, ghg, greenhouse, emission, ghg emissions, greenhouse gas, epas, power plants, fired, clean air\n",
      "\n",
      "Topic  3\n",
      "aliens, alien, visa, ina, visas, unauthorized aliens, immigrant, immigrants, lpr, ice\n",
      "\n",
      "Topic  4\n",
      "fy enacted, nsf, nih, enacted fy, nasa, request fy, federal research, national science, increase million, presidents fy\n",
      "\n",
      "Topic  5\n",
      "offense, offenses, defendant, sentencing, imprisonment, cir united, cir united states, sentence, conviction, conspiracy\n",
      "\n",
      "Topic  6\n",
      "nomination, nominations, nominees, confirmation, nominee, appointments, recess, cloture, judiciary committee, nominated\n",
      "\n",
      "Topic  7\n",
      "chinas, prc, taiwan, beijing, taiwans, hong, communist, kong, hong kong, japanese\n",
      "\n",
      "Topic  8\n",
      "tax rate, tax rates, deduction, deductions, tax reform, taxable, tax credit, corporate tax, capital gains, tax cuts\n",
      "\n",
      "Topic  9\n",
      "usaid, latin, foreign aid, latin america, caribbean, hiv, state foreign, state foreign operations, hiv aids, cuba\n",
      "\n",
      "Topic  10\n",
      "wto, fta, tpp, trade agreements, trade agreement, tariff, ftas, nafta, trade policy, tariffs\n",
      "\n",
      "Topic  11\n",
      "fisa, foreign intelligence, electronic surveillance, fisc, patriot, intelligence surveillance, foreign intelligence surveillance, foreign power, usa patriot, patriot act\n",
      "\n",
      "Topic  12\n",
      "mortgage, regulators, dodd, dodd frank, lending, mortgages, financial crisis, fdic, dodd frank act, frank act\n",
      "\n",
      "Topic  13\n",
      "fda, usda, crop, nutrition, food safety, foods, animal, crops, ffdca, clinical\n",
      "\n",
      "Topic  14\n",
      "tax credit, renewable energy, ethanol, biomass, biofuels, crude, wind, gasoline, crude oil, cellulosic\n",
      "\n",
      "Topic  15\n",
      "fema, hurricane, emergency management, stafford, stafford act, disaster relief, flood, katrina, major disaster, disaster assistance\n",
      "\n",
      "Topic  16\n",
      "palestinian, israeli, hamas, gaza, arab, egypt, palestinians, lebanon, syria, israels\n",
      "\n",
      "Topic  17\n",
      "ships, fleet, navys, missile, shipbuilding, carrier, background issues congress, amphibious, ddg, missiles\n",
      "\n",
      "Topic  18\n",
      "pakistan, pakistani, pakistans, qaeda, al qaeda, afghan, indias, taliban, islamic, islamist\n",
      "\n",
      "Topic  19\n",
      "ethics, privilege, supra, legislative branch, id id id, capitol, lobbying, supra note, plaintiffs, precedents\n",
      "\n",
      "Topic  20\n",
      "broadband, fcc, wireless, mhz, ntia, fccs, emergency communications, cable, broadcast, auction\n",
      "\n",
      "Topic  21\n",
      "discretionary spending, budget resolution, outlays, percent gdp, bca, mandatory spending, deficits, budget act, debt limit, budget control\n",
      "\n",
      "Topic  22\n",
      "spill, oil spill, species, offshore, deepwater, wildlife, horizon, deepwater horizon, crude, ocean\n",
      "\n",
      "Topic  23\n",
      "cybersecurity, cyber, critical infrastructure, grid, vulnerabilities, cybercrime, breach, infrastructure protection, cyberspace, smart\n",
      "\n",
      "Topic  24\n",
      "patent, patents, infringement, invention, intellectual property, uspto, copyright, pharmaceutical, dole, federal circuit\n",
      "\n",
      "Topic  25\n",
      "highway, surface transportation, highways, dot, rail, roads, toll, bridge, federal aid, fhwa\n",
      "\n",
      "Topic  26\n",
      "north korea, korean, north korean, koreas, dprk, south korean, japanese, north koreas, fta, missile\n",
      "\n",
      "Topic  27\n",
      "iraqi, iraqs, islamic, saddam, baghdad, security forces, qaeda, al qaeda, turkey, syria\n",
      "\n",
      "Topic  28\n",
      "nato, russian, ukraine, russias, natos, member states, putin, kosovo, turkey, missile\n",
      "\n",
      "Topic  29\n",
      "tanf, uc, unemployed, unemployment compensation, eb, veteran, sex, block grant, snap, euc\n"
     ]
    }
   ],
   "source": [
    "display_topics(nmf, cv.get_feature_names(), 10)"
   ]
  },
  {
   "cell_type": "markdown",
   "metadata": {},
   "source": [
    "<h1> NMF TFIDF </h1>"
   ]
  },
  {
   "cell_type": "markdown",
   "metadata": {},
   "source": [
    "1. Initialize an NMF"
   ]
  },
  {
   "cell_type": "code",
   "execution_count": 69,
   "metadata": {
    "collapsed": true
   },
   "outputs": [],
   "source": [
    "n_topics = 30\n",
    "n_iter = 30\n",
    "\n",
    "nmf2 = NMF(n_components=n_topics, max_iter=n_iter, random_state=42)"
   ]
  },
  {
   "cell_type": "code",
   "execution_count": 70,
   "metadata": {
    "collapsed": true
   },
   "outputs": [],
   "source": [
    "X4 = normalize(tfidf.fit_transform(handler.get_all_texts()))"
   ]
  },
  {
   "cell_type": "markdown",
   "metadata": {},
   "source": [
    "Fit your data to your NMF"
   ]
  },
  {
   "cell_type": "code",
   "execution_count": 71,
   "metadata": {
    "collapsed": true
   },
   "outputs": [],
   "source": [
    "nmf_data2 = nmf2.fit_transform(X4)"
   ]
  },
  {
   "cell_type": "code",
   "execution_count": 72,
   "metadata": {},
   "outputs": [
    {
     "data": {
      "text/plain": [
       "array([2291, 2377, 2057, 3273, 2143, 2408, 2690, 2418, 2499, 2015])"
      ]
     },
     "execution_count": 72,
     "metadata": {},
     "output_type": "execute_result"
    }
   ],
   "source": [
    "rec.get_recommendations(new_article=house_chip, \n",
    "                        model = nmf2, \n",
    "                        vectorizer=tfidf,\n",
    "                        training_vectors=nmf.transform(X4), \n",
    "                        n_neighbors=10, method = 'nmf_cv')"
   ]
  },
  {
   "cell_type": "code",
   "execution_count": 148,
   "metadata": {},
   "outputs": [
    {
     "data": {
      "text/plain": [
       "'Drug Enforcement in the United States: History, Policy, and Trends Lisa N Sacco Analyst in Illicit Drugs and Crime Policy October ,   Congressional Research Service - wwwcrs  R  \\x0cDrug Enforcement in the United States: History, Policy, and Trends  Summary The federal government prohibits the manufacturing, distribution, and possession of many intoxicating substances that are solely intended for recreational use notable exceptions are alcohol and tobacco; however, the federal government also allows for and controls the medical use of many intoxicants Federal authority to control these substances primarily resides with the Attorney General of the United States Over the last decade, the United States has shifted its stated drug control policy toward a comprehensive approach; one that focuses on prevention, treatment, and enforcement In order to restrict and reduce availability of illicit drugs in the United States, a practice referred to as supply reduction, the federal government continues to place emphasis on domestic drug enforcement According to the most recent drug control budget FY released by the Office of National Drug Control Policy ONDCP, approximately  percent  of all federal drug control spending is dedicated to supply reduction, with approximately  percent  of the total budget dedicated to domestic law enforcement Federal agencies, primarily the US Drug Enforcement Administration DEA, enforce federal controlled substances laws in all states and territories, but the majority of drug crimes known to US law enforcement are dealt with at the state level In the United States in , the DEA arrested , suspects for federal drug offenses while state and local law enforcement arrested ,, suspects for drug offenses In many cases, federal agencies assist state and local agencies with drug arrests, and suspects are referred for state prosecution, and vice-versa Most drug arrests are made by state and local law enforcement, and most of these arrests are for possession rather than sale or manufacture In contrast, most federal drug arrests are for trafficking offenses rather than possession Over the last  years the majority of DEAs arrests have been for cocaine-related offenses Trends in federal drug enforcement may reflect the nations changing drug problems and changes in the federal response to these problems They also may reflect the federal governments priorities Drug cases represent the second highest category of criminal cases filed by US Attorneys; however, federal drug cases have steadily declined over the last decade This report focuses on domestic drug enforcement It outlines historic development and major changes in US drug enforcement to help provide an understanding of how and why certain laws and policies were implemented and how these developments and changes shaped current drug enforcement policy In the th century federal, state, and local governments were generally not involved in restricting or regulating drug distribution and use, but '"
      ]
     },
     "execution_count": 148,
     "metadata": {},
     "output_type": "execute_result"
    }
   ],
   "source": [
    "get_from_mongo(mongo_id = handler.doc_ids[2191], art_name = handler.doc_names[2191])[:3000]"
   ]
  },
  {
   "cell_type": "code",
   "execution_count": 74,
   "metadata": {},
   "outputs": [
    {
     "data": {
      "text/plain": [
       "array([2104, 2745, 3421, 3199, 2565, 1063, 2667, 2473, 3119, 2533])"
      ]
     },
     "execution_count": 74,
     "metadata": {},
     "output_type": "execute_result"
    }
   ],
   "source": [
    "rec.get_recommendations(new_article=house_hydro, \n",
    "                        model = nmf2, \n",
    "                        vectorizer=tfidf,\n",
    "                        training_vectors=nmf.transform(X4), \n",
    "                        n_neighbors=10, method = 'nmf_cv')"
   ]
  },
  {
   "cell_type": "code",
   "execution_count": 149,
   "metadata": {},
   "outputs": [
    {
     "data": {
      "text/plain": [
       "' National Ambient Air Quality Standard NAAQS for Fine Particulate Matter PM  Designating Nonattainment Areas Robert Esworthy Specialist in Environmental Policy December ,   Congressional Research Service - wwwcrs  R  \\x0c NAAQS for Fine Particulate Matter PM  Designating Nonattainment Areas  Summary On April , , the Environmental Protection Agency EPA published amendments to the January , , final rule designating areas for compliance with the  primary annual National Ambient Air Quality Standard NAAQS for fine particulate matter PM Revising a NAAQS established under the Clean Air Act CAA sets in motion a process under which the states and EPA identify areas that exceed the standard nonattainment areas using multi-year air quality monitoring data and other criteria, requiring states to take steps to reduce pollutant concentrations in order to meet the standard The  revisions to the PM NAAQS were the subject of considerable congressional oversight EPAs designation of nonattainment areas may be an issue of interest and debate among Members of Congress, states, and other stakeholders The PM NAAQS revisions, published January  changed the annual health-based primary standard for fine particulate matter  micrometers or less in diameter or PM to a limit of  micrograms per cubic meter g/m from the  g/m limit Revisions to the PM NAAQS retained the existing -hour primary standard for PM of  g/m as promulgated in  and the existing standard for larger, but still inhalable, coarse particles  micrometers or less in diameter, or PM During EPAs consideration of alternative approaches for revising the PM NAAQS, many stakeholders and some in Congress expressed concern about the potential impacts associated with an increased number of areas that may be deemed nonattainment under a more stringent standard The number of areas ultimately determined nonattainment for the revised PM NAAQS were considerably fewer than some had anticipated Based on its review of recently submitted  air quality data, EPAs April  modifications to the final area designations for the  PM NAAQS resulted in nine areas consisting of  counties in four states designated as nonattainment All but two of the  counties have been previously designated as nonattainment for the  and/or the  PM NAAQS In accordance with a decision by the US Court of Appeals for the District of Columbia Circuit on January , , EPA classified all areas determined to be in nonattainment as moderate nonattainment areas under the authority of Section  of the CAA In comparison to the nonattainment area designations as amended by EPA in April , EPAs final designations published in January  were composed of  areas comprising  counties in  states The EPA April  amended designations changed the nonattainment designation of two areas in Pennsylvania four counties and one each in Ohio three counties and Ohio four counties/Kentucky three counties to unclassifiable/attainment and one area in Kentucky two counties/Indiana two counties to unc'"
      ]
     },
     "execution_count": 149,
     "metadata": {},
     "output_type": "execute_result"
    }
   ],
   "source": [
    "get_from_mongo(mongo_id = handler.doc_ids[2104], art_name = handler.doc_names[2104])[:3000]"
   ]
  },
  {
   "cell_type": "code",
   "execution_count": 80,
   "metadata": {
    "scrolled": true
   },
   "outputs": [
    {
     "name": "stdout",
     "output_type": "stream",
     "text": [
      "\n",
      "Topic  0\n",
      "usaid, foreign aid, state foreign operations, state foreign, hiv, oco, hiv aids, global health, operations related, foreign operations related\n",
      "\n",
      "Topic  1\n",
      "aca, premiums, cost sharing, affordable care, care act, affordable care act, health plans, cms, enrollment, premium tax\n",
      "\n",
      "Topic  2\n",
      "ghg, carbon, emission, greenhouse, ghg emissions, greenhouse gas, epas, power plants, ccs, clean air\n",
      "\n",
      "Topic  3\n",
      "aliens, ina, alien, visa, visas, unauthorized aliens, lpr, immigrant, nonimmigrant, lprs\n",
      "\n",
      "Topic  4\n",
      "tsa, fy enacted, cbp, dhs appropriations, passenger, cargo, transportation security, enacted fy, airport, directorate\n",
      "\n",
      "Topic  5\n",
      "fisa, foreign intelligence, fisc, electronic surveillance, foreign intelligence surveillance, foreign power, intelligence surveillance, patriot, usa patriot, patriot act\n",
      "\n",
      "Topic  6\n",
      "nomination, nominations, nominees, nominee, recess, confirmation, appointments, cloture, court nominations, court nominees\n",
      "\n",
      "Topic  7\n",
      "wto, tpp, fta, trade agreements, ftas, trade agreement, nafta, tariff, trade policy, tariffs\n",
      "\n",
      "Topic  8\n",
      "tax rate, tax rates, deduction, tax credit, deductions, tax reform, corporate tax, tax cuts, taxable, irs\n",
      "\n",
      "Topic  9\n",
      "budget resolution, discretionary spending, percent gdp, bca, outlays, debt limit, mandatory spending, budget act, deficits, budget deficit\n",
      "\n",
      "Topic  10\n",
      "fema, stafford, stafford act, hurricane, emergency management, major disaster, flood, disaster relief, katrina, femas\n",
      "\n",
      "Topic  11\n",
      "offense, sentencing, defendant, offenses, imprisonment, cir united, cir united states, th cir united, conspiracy, sentence\n",
      "\n",
      "Topic  12\n",
      "mortgage, dodd frank, dodd, regulators, cfpb, fdic, lending, dodd frank act, frank act, mortgages\n",
      "\n",
      "Topic  13\n",
      "nato, russian, ukraine, natos, russias, putin, kosovo, member states, enlargement, eus\n",
      "\n",
      "Topic  14\n",
      "nsf, nih, nasa, research service federal, federal research, development funding fy, service federal research, national science, federal research development, research development funding\n",
      "\n",
      "Topic  15\n",
      "fda, food safety, ffdca, clinical, fdas, wwwfda, http wwwfda, nih, user fee, foods\n",
      "\n",
      "Topic  16\n",
      "palestinian, israeli, hamas, gaza, palestinians, arab, israels, west bank, lebanon, egypt\n",
      "\n",
      "Topic  17\n",
      "broadband, fcc, wireless, mhz, ntia, fccs, emergency communications, cable, broadcast, internet access\n",
      "\n",
      "Topic  18\n",
      "patent, patents, invention, uspto, infringement, intellectual property, copyright, federal circuit, dole, pharmaceutical\n",
      "\n",
      "Topic  19\n",
      "pakistan, pakistans, pakistani, afghan, taliban, qaeda, indias, al qaeda, islamic, delhi\n",
      "\n",
      "Topic  20\n",
      "spill, oil spill, species, deepwater, offshore, deepwater horizon, crude, cwa, horizon, crude oil\n",
      "\n",
      "Topic  21\n",
      "legislative branch, ethics, capitol, privilege, lobbying, legislative branch appropriations, branch appropriations, precedents, house administration, house rule\n",
      "\n",
      "Topic  22\n",
      "cybersecurity, cyber, critical infrastructure, grid, cybercrime, vulnerabilities, infrastructure protection, cyberspace, breach, smart\n",
      "\n",
      "Topic  23\n",
      "ships, navys, missile, fleet, shipbuilding, ddg, amphibious, cargo, missiles, missile defense\n",
      "\n",
      "Topic  24\n",
      "chinas, prc, taiwan, beijing, taiwans, hong, japanese, tibetan, communist, kong\n",
      "\n",
      "Topic  25\n",
      "usda, crop, crop insurance, nutrition, crops, snap, usdas, acres, biomass, livestock\n",
      "\n",
      "Topic  26\n",
      "iraqi, iraqs, saddam, islamic, baghdad, qaeda, al qaeda, sunni, security forces, syria\n",
      "\n",
      "Topic  27\n",
      "highway, surface transportation, highways, fhwa, dot, rail, federal aid, toll, roads, bridges\n",
      "\n",
      "Topic  28\n",
      "tanf, uc, veteran, euc, unemployed, unemployment compensation, vha, eb, uc benefits, servicemembers\n",
      "\n",
      "Topic  29\n",
      "latin, latin america, caribbean, cuba, colombia, mexican, america caribbean, latin america caribbean, venezuela, latin american\n"
     ]
    }
   ],
   "source": [
    "display_topics(nmf2,tfidf.get_feature_names(),10)"
   ]
  },
  {
   "cell_type": "code",
   "execution_count": 150,
   "metadata": {},
   "outputs": [
    {
     "data": {
      "text/plain": [
       "'The Temporary Assistance for Needy Families TANF Block Grant: A Primer on TANF Financing and Federal Requirements Gene Falk Specialist in Social Policy November ,   Congressional Research Service - wwwcrs  RL  \\x0cThe Temporary Assistance for Needy Families TANF Block Grant  Summary The Temporary Assistance for Needy Families TANF block grant provides federal grants to the  states, the District of Columbia, American Indian tribes, and the territories for a wide range of benefits, services, and activities It is best known for helping states pay for cash welfare for needy families with children, but it funds a wide array of additional activities TANF was created in the  welfare reform law PL - TANF provides a basic block grant of $ billion It also requires states to contribute in the aggregate from their own funds at least $ billion for benefits and services to needy families with childrenthis is known as the maintenance-of-effort MOE requirement States may use TANF and MOE funds in any manner reasonably calculated to achieve TANFs statutory purpose This purpose is to increase state flexibility to achieve four goals:  provide assistance to needy families with children so that they can live in their own homes or the homes of relatives;  end dependence of needy parents on government benefits through work, job preparation, and marriage;  reduce out-of-wedlock pregnancies; and  promote the formation and maintenance of two-parent families Though TANF is a block grant, there are some strings attached to states use of funds Most TANF requirements apply to families receiving cash assistance essentially cash welfare Families must be financially needy and have a minor child to qualify for assistance; states determine the exact financial eligibility rules and benefit amounts Some families have eligible children but the adults who care for their children are ineligible for aid These are termed childonly families because benefits are paid only on behalf of the children States must meet TANF work participation standards or risk a reduction in their block grant The law sets standards stipulating that at least  percent  of all families and  percent  of two-parent families be engaged in work Some families receiving TANF assistance are excluded from the calculation Additionally, these statutory standards are reduced by credits for caseload reduction and state spending in excess of what is required under the TANF MOE These credits and the effective after credit participation targets vary by state and year Activities countable toward a family being counted as engaged in work are focused on employment or working off the cash benefit, or are intended to rapidly attach welfare recipients to the workforce; education and training is countable, but limited Federal TANF funds may not be used for a family with an adult who has received assistance for  months This is the five-year time limit on welfare receipt However, up to  percent  of the caseload may be extended beyond the fi'"
      ]
     },
     "execution_count": 150,
     "metadata": {},
     "output_type": "execute_result"
    }
   ],
   "source": [
    "get_from_mongo(handler.doc_ids[1412], handler.doc_names[1412])[:3000]\n"
   ]
  },
  {
   "cell_type": "code",
   "execution_count": 82,
   "metadata": {},
   "outputs": [
    {
     "data": {
      "text/plain": [
       "array([2104, 2745, 3421, 3199, 2565, 1063, 2667, 2473, 3119, 2533])"
      ]
     },
     "execution_count": 82,
     "metadata": {},
     "output_type": "execute_result"
    }
   ],
   "source": [
    "rec.get_recommendations(new_article=house_hydro, \n",
    "                        model = nmf2, \n",
    "                        vectorizer=tfidf,\n",
    "                        training_vectors=nmf.transform(X4), \n",
    "                        n_neighbors=10, method = 'nmf_cv')"
   ]
  },
  {
   "cell_type": "code",
   "execution_count": 151,
   "metadata": {},
   "outputs": [
    {
     "data": {
      "text/plain": [
       "'Government Transparency and Secrecy: An Examination of Meaning and Its Use in the Executive Branch Wendy Ginsberg Analyst in American National Government Maeve P Carey Analyst in Government Organization and Management L Elaine Halchin Specialist in American National Government Natalie Keegan Analyst in American Federalism and Emergency Management Policy November ,   Congressional Research Service - wwwcrs  R  CRS Report for Congress Prepared for Members and Committees of Congress  \\x0cGovernment Transparency: An Examination of Its Use in the Executive Branch  Summary From the beginnings of the American federal government, Congress has required executive branch agencies to release or otherwise make available government information and records Some scholars and statesmen, including James Madison, thought access to information commonly referred to in contemporary vernacular as transparencywas an essential cornerstone of ic governance Today, the federal government attempts to balance access to information with the need to protect certain information including national security information and trade secrets in order to achieve transparency As a consequence, access and protection are often in tension with one another Congress has the authority to determine what information can and should be publicly available as well as what should be protected Congressional powers that may be used to address federal transparency include the powers to legislate, hold hearings, issue subpoenas, and control the federal budget Statutes that grant access to government information include the Federal Register Act, the Administrative Procedure Act APA, and the Freedom of Information Act FOIA Among the laws enacted to protect information are the Privacy Act and FOIA Agencies also use security classifications, which are governed largely by executive orders, to protect certain records from public release Records may be protected for national security purposes, personal privacy concerns, or other reasons The Obama Administration has undertaken its own transparency initiative, known as the Open Government Initiative, to make executive branch agencies more transparent, publicly accessible, and collaborative than they have historically been Watchdog organizations have offered mixed reviews of the initiatives ability to promote and institute government transparency Transparency may be defined as the disclosure of government information and its use by the public Transparency, under this definition, requires a public that can access, understand, and use the information it receives from the federal government This report first assesses the meaning of transparency and discusses its scholarly and practical definitions It also provides an analysis of the concept of transparency, with a focus on federal government transparency in the executive branch This report subsequently examines the statutes, initiatives, requirements, and other actions that make information more available to the public '"
      ]
     },
     "execution_count": 151,
     "metadata": {},
     "output_type": "execute_result"
    }
   ],
   "source": [
    "get_from_mongo(mongo_id = handler.doc_ids[178], art_name = handler.doc_names[178])[:3000]"
   ]
  },
  {
   "cell_type": "markdown",
   "metadata": {},
   "source": [
    "<h1> LSA CV </h1>"
   ]
  },
  {
   "cell_type": "markdown",
   "metadata": {},
   "source": [
    "1. Initialize an LSA"
   ]
  },
  {
   "cell_type": "code",
   "execution_count": 84,
   "metadata": {
    "collapsed": true
   },
   "outputs": [],
   "source": [
    "n_topics = 30\n",
    "n_iter = 30\n",
    "\n",
    "lsa = TruncatedSVD(n_components = n_topics, n_iter = n_iter, random_state=42)\n"
   ]
  },
  {
   "cell_type": "markdown",
   "metadata": {},
   "source": [
    "Fit your data to your LSA"
   ]
  },
  {
   "cell_type": "code",
   "execution_count": 85,
   "metadata": {
    "collapsed": true
   },
   "outputs": [],
   "source": [
    "X4 = cv.fit_transform(handler.get_all_texts())\n"
   ]
  },
  {
   "cell_type": "code",
   "execution_count": 86,
   "metadata": {
    "collapsed": true
   },
   "outputs": [],
   "source": [
    "lsa_data = lsa.fit_transform(X4)\n"
   ]
  },
  {
   "cell_type": "code",
   "execution_count": 87,
   "metadata": {},
   "outputs": [
    {
     "data": {
      "text/plain": [
       "array([2239, 2126, 2146])"
      ]
     },
     "execution_count": 87,
     "metadata": {},
     "output_type": "execute_result"
    }
   ],
   "source": [
    "rec.get_recommendations(new_article=house_chip, \n",
    "                        model = lsa, \n",
    "                        vectorizer=cv,\n",
    "                        training_vectors=lsa.transform(X4), \n",
    "                        n_neighbors=3, method = 'lsa_cv')\n"
   ]
  },
  {
   "cell_type": "code",
   "execution_count": 152,
   "metadata": {},
   "outputs": [
    {
     "data": {
      "text/plain": [
       "'Hatch Act: Candidacy for Office by Federal Employees in the Executive Branch Jack Maskell Legislative Attorney July ,   Congressional Research Service - wwwcrs  R  \\x0cHatch Act: Candidacy for Office by Federal Employees in the Executive Branch  Summary The federal law commonly known as the Hatch Act applies to all federal officers and employeesother than the President and Vice Presidentin the agencies, departments, bureaus, and offices of the executive branch of the federal government Under the significant amendments made to the law in , the Hatch Act now generally permits most federal employees to engage in a wide range of voluntary, partisan political activities on their own off-duty time and away from the federal workplace Some employees in specified agencies and positions, including those dealing with law enforcement and national security matters, it should be noted, may be subject to further restrictions on their off-duty partisan political activities, and may not take any active part in political management or political campaigns Although most officers and employees in the executive branch of the federal government are now free to engage in most voluntary, partisan political activities on their own free time, employees in the executive branch may still not be candidates for election to a partisan political office  USC  a, that is, federal employees may generally not be candidates for elective office in a partisan election Most civilian employees in the executive branch may, however,  run for office in a nonpartisan election that is, an election in which none of the candidates represents a political party;  run as an independent in partisan elections in certain specified, exempt communities in which a number of federal employees reside; and  be candidates for and hold positions in political parties and their affiliated organizations  Congressional Research Service  \\x0cHatch Act: Candidacy for Office by Federal Employees in the Executive Branch  Contents Who Is Covered by the Hatch Act   Prohibition on Candidacy in Hatch Act Amendments of    When One Becomes a Candidate   Nonpartisan Elections   Exemptions for Those in Certain Localities   Political Party Positions   Other Restrictions Relative to Running for Office   Holding Other Public Office   United States Office of Special Counsel    Contacts Author Contact Information   Congressional Research Service  \\x0cHatch Act: Candidacy for Office by Federal Employees in the Executive Branch  T  his report provides information on the permissibility, under federal law, of a federal employee in an agency or department of the executive branch of government being a candidate for elective office  Under the provisions of federal law commonly known as the Hatch Act, civilian employees in the executive branch of the federal government other than the President and Vice President have, since , been prohibited from running as candidates in partisan elections Amended in , the Hatch Act now permits federal employees'"
      ]
     },
     "execution_count": 152,
     "metadata": {},
     "output_type": "execute_result"
    }
   ],
   "source": [
    "get_from_mongo(mongo_id = handler.doc_ids[2238], art_name = handler.doc_names[2238]) [:3000]"
   ]
  },
  {
   "cell_type": "code",
   "execution_count": 153,
   "metadata": {},
   "outputs": [
    {
     "data": {
      "text/plain": [
       "'Climate Change Adaptation by Federal Agencies: An Analysis of Plans and Issues for Congress Jane A Leggett, Coordinator Specialist in Energy and Environmental Policy February ,   Congressional Research Service - wwwcrs  R  \\x0cClimate Change Adaptation by Federal Agencies  Summary Though Congress has debated the significance of global climate change and what federal policies, if any, should address them, the Government Accountability Office GAO since  has identified the changing climate as one of the  most significant risks facing the federal government President Obama established adaptation as a prominent part of his Climate Action Plan in June  The November  Executive Order , Preparing the United States for the Impacts of Climate Change, directed agencies to undertake vulnerability assessments and planning for adaptation The Administration aimed efforts at reducing agencies own risks, taking advantage of no-regrets adaptation opportunities, and actions that promote resilience to climate changes  Scope of Report This report reviews current actions as of January  of selected federal departments and agencies to adapt their own missions, infrastructure, operations, and personnel to projected climate change It does not address federal programs meant primarily to assist others to adapt, although the boundary is often hard to delineate This synthesis is not comprehensive It identifies common approaches among agencies, examples of specific actions, and notable barriers the federal government faces As of December , almost  federal departments and agencies had, to varying degrees, produced climate change adaptation plans, climate change vulnerability assessments, adaptation milestones, and/or metrics to evaluate adaptation performance These efforts have identified wide-ranging vulnerabilities to potential climate changes, as well as some opportunities Most agencies are in formative stages of their assessments and strategic planning Some agencies are embarking on more detailed analyses and limited implementation actions Overall, few examples are apparent of day-to-day agency decisions or actions that are different as a result of their adaptation efforts Numerous challenges face federal officials in their efforts, including constrained resources, data gaps regarding location-specific climate changes or existing facilities, insufficient personnel training, andsometimeslow priority among priorities CRS identified few on-the-ground adaptations and few evaluations, as yet, of the effectiveness and efficiency of alternative adaptation approaches and actions It may not be possible to tally budgetary resources associated with federal adaptation efforts While some are reported in the Presidents budget proposals, many are indivisible from the activities with which they are associated, reflecting more of a change in how efforts are undertaken than a change in level of effort  Role of Congress In light of agencies risk assessments and adaptation planning, Congress may c'"
      ]
     },
     "execution_count": 153,
     "metadata": {},
     "output_type": "execute_result"
    }
   ],
   "source": [
    "get_from_mongo(mongo_id = handler.doc_ids[2125], art_name = handler.doc_names[2125])[:3000]"
   ]
  },
  {
   "cell_type": "code",
   "execution_count": 90,
   "metadata": {},
   "outputs": [
    {
     "data": {
      "text/plain": [
       "array([1966,  878, 2081])"
      ]
     },
     "execution_count": 90,
     "metadata": {},
     "output_type": "execute_result"
    }
   ],
   "source": [
    "rec.get_recommendations(new_article=house_hydro, \n",
    "                        model = lsa, \n",
    "                        vectorizer=cv,\n",
    "                        training_vectors=lsa.transform(X4), \n",
    "                        n_neighbors=3, method = 'lsa_cv')\n"
   ]
  },
  {
   "cell_type": "code",
   "execution_count": 154,
   "metadata": {},
   "outputs": [
    {
     "data": {
      "text/plain": [
       "'EPAs Clean Power Plan: Implications for the Electric Power Sector Richard J Campbell Specialist in Energy Policy November ,   Congressional Research Service - wwwcrs  R  \\x0cEPAs Clean Power Plan: Implications for the Electric Power Sector  Summary On October , , the Environmental Protection Agency EPA released the final version of regulations to reduce greenhouse gas GHG emissions from existing power plants also referred to as electric generating units or EGUs by EPA Since carbon dioxide CO from fossil fuel combustion is the largest source of US GHG emissions, and fossil fuels are used for the majority of electric power generation, reducing CO emissions from power plants plays a key role in the Administrations climate change policy Under the provisions of the Clean Power Plan CPP, states must prepare plans that reduce either total CO emissions or emission rates at affected EGUs When implemented, EPA projects the state plans will reduce CO emissions from US power generation approximately  percent  by  compared to  levels EPA prepared state-specific CO emissions rates based on newly established national performance standards and the states existing power generation portfolio A state must implement an EPAapproved plan to ensure that power plants individually, in aggregate, or in combination with other measures undertaken by the state, achieve the equivalent of the interim CO emissions performance rates over the glide path period of  to , and the final CO performance rates, rate-based goals, or mass-based goals by  EPA based the national performance standards in the CPP on the best system of emissions reduction BSER In the final rule, BSER includes three inside the fence line Building Blocks BBs  BB  involves improving the heat rate ie, efficiency of coal-fired steam EGUs BB  substitutes generation from lower-emitting existing natural gas combined cycle NGCC units for generation from higher-emitting steam generating units BB  has generation from new zero-emitting renewable energy generating capacity replacing generation from fossil fuel-fired generating units EPA has modeled potential implications of the CPP in its Regulatory Impact Analysis RIA, and emphasizes demand-side energy efficiency DSEE as a potential low-cost option While DSEE is not a part of the BSER and is an outside the fence activity, EPAs RIA assumes DSEE can lower electricity demand and reduce electric system costs, thereby offsetting estimated electricity price increases As a result, EPA projects lower average electricity bills nationally by  EPAs RIA also estimates reduced electricity demand will lower natural gas consumption, even as more NGCC capacity may be called upon to back up increased intermittent and variable renewable electric generation Increased dependence on renewable generation may require new transmission lines Many of todays transmission projects awaiting regulatory approvals are intended to serve renewable electricity projects It can take from  to  years to get the f'"
      ]
     },
     "execution_count": 154,
     "metadata": {},
     "output_type": "execute_result"
    }
   ],
   "source": [
    "get_from_mongo(mongo_id = handler.doc_ids[1965], art_name = handler.doc_names[1965])[:3000]"
   ]
  },
  {
   "cell_type": "code",
   "execution_count": 155,
   "metadata": {},
   "outputs": [
    {
     "data": {
      "text/plain": [
       "'US Postal Service Workforce Size and Employment Categories, FY-FY Kathryn A Francis Analyst in Government Organization and Management October ,   Congressional Research Service - wwwcrs  RS  \\x0cUS Postal Service Workforce Size and Employment Categories, FY-FY  Summary This report provides data from the past  years on the size and composition of the US Postal Services USPSs workforce Reforms to the size and composition of the workforce have been an integral part of USPSs strategy to reduce costs and regain financial solvency, particularly between FY and FY Since , USPS has experienced significant revenue losses that have affected its ability to manage its expenses Personnel costs are one of the primary drivers of USPSs operating expenses As such, USPS has employed strategies to reform the size and composition of its workforce in an effort to cut personnel costs, primarily through attrition and separation incentives and increased use of lower-cost employees These strategies reduced personnel expenses between FY and FY The sustainability of these reduced expenses and their overall impact on USPSs ability to regain financial solvency, however, is unclear The size of the USPS workforce has declined in the past  years The number of employees has dropped by ,  percent  in the past  years, from , in FY to , in FY USPS, however, had  more employees at the end of FY than it did at the end of FY Declines in workforce size between FY and FY were driven, in part, by USPSs efforts to reduce its workforce size through attrition and separation incentives Between FY and FY, , career employees accepted a separation incentive to retire or resign early On January , , USPS instituted a reduction in force for  postmasters who did not accept a separation incentive offered in  The composition of USPSs workforce has also changed over the past two decades USPS categorizes its workforce into two types of employees: career and non-career Career employees serve in permanent positions on a full-time or part-time basis and typically receive full federal benefits Non-career employees serve in time-limited or otherwise temporary positions and can often perform the full range of duties of career counterparts at lower wage rates, which might lower personnel costs USPS has increased the number of non-career employees in an effort to reduce personnel costs, particularly since FY Between FYand FY, the number of non-career employees increased by  percent , from , to , employees The influx in non-career employees since FY is primarily attributable to the establishment of three new non-career positions: postal support employees, city carrier assistants, and mail handler assistants Labor union contracts governing these positions, which went into effect in  and , effectively raised the total number of non-career employees that can comprise the USPS workforce Career employees, however, continued to comprise the majority of the total workforce in FY  percent  This report will be updated as ev'"
      ]
     },
     "execution_count": 155,
     "metadata": {},
     "output_type": "execute_result"
    }
   ],
   "source": [
    "get_from_mongo(mongo_id = handler.doc_ids[877], art_name = handler.doc_names[877])[:3000]"
   ]
  },
  {
   "cell_type": "markdown",
   "metadata": {},
   "source": [
    "<h1> LSA TFIDF </h1>"
   ]
  },
  {
   "cell_type": "markdown",
   "metadata": {},
   "source": [
    "1. Initialize an LSA"
   ]
  },
  {
   "cell_type": "code",
   "execution_count": 95,
   "metadata": {
    "collapsed": true
   },
   "outputs": [],
   "source": [
    "n_topics = 30\n",
    "n_iter = 30\n",
    "\n",
    "lsa_tfidf = TruncatedSVD(n_components = n_topics, n_iter = n_iter, random_state=42)"
   ]
  },
  {
   "cell_type": "code",
   "execution_count": 96,
   "metadata": {
    "collapsed": true
   },
   "outputs": [],
   "source": [
    "X5 = tfidf.fit_transform(handler.get_all_texts())"
   ]
  },
  {
   "cell_type": "markdown",
   "metadata": {},
   "source": [
    "Fit your data to your LSA"
   ]
  },
  {
   "cell_type": "code",
   "execution_count": 97,
   "metadata": {
    "collapsed": true
   },
   "outputs": [],
   "source": [
    "lsa_data_tfidf = lsa_tfidf.fit_transform(X5)"
   ]
  },
  {
   "cell_type": "code",
   "execution_count": 98,
   "metadata": {},
   "outputs": [
    {
     "data": {
      "text/plain": [
       "array([565, 755, 747])"
      ]
     },
     "execution_count": 98,
     "metadata": {},
     "output_type": "execute_result"
    }
   ],
   "source": [
    "rec.get_recommendations(new_article=house_chip, \n",
    "                        model = lsa_tfidf, \n",
    "                        vectorizer=tfidf,\n",
    "                        training_vectors=lsa.transform(X5), \n",
    "                        n_neighbors=3, method = 'lsa_tfidf')"
   ]
  },
  {
   "cell_type": "code",
   "execution_count": 156,
   "metadata": {},
   "outputs": [
    {
     "data": {
      "text/plain": [
       "'The Greek Debt Crisis: Overview and Implications for the United States Rebecca M Nelson, Coordinator Specialist in International Trade and Finance Paul Belkin Analyst in European Affairs James K Jackson Specialist in International Trade and Finance April ,   Congressional Research Service - wwwcrs  R  \\x0cThe Greek Debt Crisis: Overview and Implications for the United States  Summary Crisis Overview Since , Greece has grappled with a serious debt crisis Most economists believe that Greeces public debt,  percent  of Greek gross domestic product GDP, is unsustainable The ramifications of the debt have been felt throughout the Greek economy, which contracted by  percent  from its precrisis level A fifth of Greeks are unemployed, with youth unemployment at nearly  percent , and the Greek banking system is unstable Although other Eurozone governments, the International Monetary Fund IMF, and the European Central Bank coordinated a substantial crisis response, Greece continues to face serious economic challenges The economic crisis in Greece is also one of several major challenges currently facing the member European Union EU that have heightened concerns about the legitimacy and structure of the EU and its institutions and raised questions about the blocs future shape and character Acrimonious debates among European leaders about the appropriate response to the Greek crisis and other challenges have heightened political tensions in Europe that could negatively affect the EU over the longer term In particular, the crisis in Greece has exposed problems with the institutional architecture of the Eurozone, whose member states share a common currency and monetary policy, but retain national control over fiscal and banking policies Recent Developments and Outlook In the short-term, attention is focused on whether the Greek government can make  billion about $ billion in debt payments falling due in July The Greek government and European creditors are in negotiations to unlock disbursements of financial assistance to the Greek government that would allow it to make the July repayments If an agreement cannot be reached, Greece may again default on its debt A key issue in current negotiations is the role of the IMF The IMF did not participate in the third rescue package for Greece, but left open the possibility of doing so at a later date The IMF is pushing the Greek government to implement pension and tax reforms and pushing European creditors to grant debt relief to Greece After seven years through the crisis, how the crisis will ultimately be resolved remains unclear Possible scenarios could include  Europeans continue to muddle through the crisis, providing financial assistance to Greece in exchange for reforms, while keeping Eurozone membership in tact;  Europeans provide greater flexibility to Greece on debt relief and reforms, allowing Greece to grow out of the crisis while maintaining membership in the Eurozone; or  an eventual splintering of the Eurozone'"
      ]
     },
     "execution_count": 156,
     "metadata": {},
     "output_type": "execute_result"
    }
   ],
   "source": [
    "get_from_mongo(mongo_id = handler.doc_ids[564], art_name = handler.doc_names[564])[:3000]"
   ]
  },
  {
   "cell_type": "code",
   "execution_count": 100,
   "metadata": {},
   "outputs": [
    {
     "data": {
      "text/plain": [
       "array([ 35,  51, 433])"
      ]
     },
     "execution_count": 100,
     "metadata": {},
     "output_type": "execute_result"
    }
   ],
   "source": [
    "rec.get_recommendations(new_article=house_hydro, \n",
    "                        model = lsa_tfidf, \n",
    "                        vectorizer=tfidf,\n",
    "                        training_vectors=lsa.transform(X5), \n",
    "                        n_neighbors=3, method = 'lsa_tfidf')"
   ]
  },
  {
   "cell_type": "code",
   "execution_count": 157,
   "metadata": {},
   "outputs": [
    {
     "data": {
      "text/plain": [
       "'Order Code RS Updated August ,   CRS Report for Congress Received through the CRS Web  Navy Ship Procurement Rate and the Planned Size of the Navy: Background and Issues for Congress Ronald ORourke Specialist in National Defense Foreign Affairs, Defense, and Trade Division  Summary There is currently no officially approved, consensus plan for the future size and structure of the Navy The absence of such a plan could complicate Congress ability to conduct oversight of the Navys budget and individual Navy ship-acquisition programs DOD is proposing to procure new Navy ships during most of its amended FY-FY Future Years Defense Plan FYDP at an average rate less than what would be required, over the long run, to maintain a Navy of  or more ships over the long run This report will be updated as events warrant  Background Historical and Current Size of the Navy The Navy reached a late-Cold War peak of  battle force ships in FY and has since been declining in size The Navy fell below  battle force ships in August  and included  battle force ships as of August ,  The Department of Defenses DODs amended FY-FY Future Years Defense Plan FYDP would reduce the Navy to  battle force ships by the end of FY, before building back to  battle force ships by the end of FY Planned Size and Structure of the Navy DODs  Quadrennial Defense Review QDR approved a plan for a Navy of about  battle force ships This plan, like the one approved in the  QDR, included  aircraft carriers,  surface combatants,  nuclear-powered attack submarines SSNs, and  amphibious ships organized into  amphibious ready groups ARGs with a combined capability to lift the assault echelons of  Marine Expeditionary Brigades MEBs The  QDR report stated that as DODs transformation effort matures  and as it produces significantly higher output of military value from each element of the force  DOD will explore additional opportunities to restructure and reorganize the Armed Forces In February , in submitting its proposed FY-FY Future Years Defense Plan FYDP to Congress, DOD announced that it had initiated studies on undersea Congressional Research Service  The Library of Congress  \\x0cCRS- warfare requirements and forcible entry options for the US military These studies could affect, among the other things, the required numbers of SSNs and amphibious ships, and therefore created uncertainty about DODs commitment to the -ship plan Navy leaders in  began to mention an alternative proposal for a -ship Navy The -ship proposal includes several dozen smaller surface combatants, called Littoral Combat Ships LCSs, that are not included in the -ship plan The -ship plan includes  aircraft carriers,  SSNs,  converted Trident cruise-missile-carrying submarines SSGNs,  surface combatants including  cruisers, destroyers, frigates, and  LCSs,  amphibious ships, and additional mine warfare and support ships Although Navy leaders in  and  routinely referred to the -ship proposal, Secretary of Defense Donald Rumsfeld, at a Fe'"
      ]
     },
     "execution_count": 157,
     "metadata": {},
     "output_type": "execute_result"
    }
   ],
   "source": [
    "get_from_mongo(mongo_id = handler.doc_ids[34], art_name = handler.doc_names[34])[:3000]"
   ]
  },
  {
   "cell_type": "markdown",
   "metadata": {},
   "source": [
    "<h1> Can we optimize how LDA recommends documents </h1>"
   ]
  },
  {
   "cell_type": "code",
   "execution_count": 102,
   "metadata": {
    "collapsed": true
   },
   "outputs": [],
   "source": [
    "#First, instantiate a new recommender\n",
    "\n",
    "rec_euclid = recommender(handler)"
   ]
  },
  {
   "cell_type": "code",
   "execution_count": 103,
   "metadata": {
    "collapsed": true
   },
   "outputs": [],
   "source": [
    "X = cv.fit_transform(handler.get_all_texts())"
   ]
  },
  {
   "cell_type": "code",
   "execution_count": 104,
   "metadata": {
    "collapsed": true
   },
   "outputs": [],
   "source": [
    "X = normalize(X)"
   ]
  },
  {
   "cell_type": "code",
   "execution_count": 105,
   "metadata": {
    "collapsed": true
   },
   "outputs": [],
   "source": [
    "n_topics = 30\n",
    "n_iter = 30\n",
    "lda_euclid = LatentDirichletAllocation(n_components=n_topics,\n",
    "                                max_iter=n_iter,\n",
    "                                random_state=42,\n",
    "                               learning_method='online')"
   ]
  },
  {
   "cell_type": "code",
   "execution_count": 106,
   "metadata": {
    "collapsed": true
   },
   "outputs": [],
   "source": [
    "data_lda_cv_euclid = lda_euclid.fit_transform(X)"
   ]
  },
  {
   "cell_type": "code",
   "execution_count": 107,
   "metadata": {},
   "outputs": [
    {
     "data": {
      "text/plain": [
       "array([2015, 2536, 2690, 2261, 3273, 2408,  959, 2274, 1010, 2057])"
      ]
     },
     "execution_count": 107,
     "metadata": {},
     "output_type": "execute_result"
    }
   ],
   "source": [
    "rec_euclid.get_recommendations(new_article=house_chip, model = lda_euclid, vectorizer=cv,\n",
    "                       training_vectors = lda_euclid.transform(X), n_neighbors = 10, method = 'lda_cv', metric = 'euclidean')"
   ]
  },
  {
   "cell_type": "code",
   "execution_count": 158,
   "metadata": {},
   "outputs": [
    {
     "data": {
      "text/plain": [
       "'Science and Technology Issues in the th Congress Frank Gottron, Coordinator Specialist in Science and Technology Policy May ,   Congressional Research Service - wwwcrs  R  \\x0cScience and Technology Issues in the th Congress  Summary Science and technology S&T have a pervasive influence over a wide range of issues confronting the nation Public and private research and development spur scientific and technological advancement Such advances can drive economic growth, help address national priorities, and improve health and quality of life The constantly changing nature and ubiquity of science and technology frequently create public policy issues of congressional interest The federal government supports scientific and technological advancement directly by funding and performing research and development and indirectly by creating and maintaining policies that encourage private sector efforts Additionally, the federal government establishes and enforces regulatory frameworks governing many aspects of S&T activities This report briefly outlines an array of science and technology policy issues that may come before the th Congress Given the rapid pace of S&T advancement and its importance in many diverse public policy issues, S&T-related issues not discussed in this report may come before the th Congress The selected issues are grouped into  categories:            Overarching S&T Policy Issues, Agriculture, Biomedical Research and Development, Defense, Energy, Environment and Natural Resources, Homeland Security, Information Technology, Physical and Material Sciences, and Space  Each of these categories includes concise analysis of multiple policy issues The material presented in this report should be viewed as illustrative rather than comprehensive Each section identifies CRS reports, when available, and the appropriate CRS experts to contact for further information and analysis  Congressional Research Service  \\x0cScience and Technology Issues in the th Congress  Contents Introduction   Overarching S&T Policy Issues   Federal Science and Technology Policymaking Enterprise   Federal Funding for Research and Development   America COMPETES Act Reauthorization   Regulations for Federally Funded Research at Academic Institutions   Technology Transfer from Federal Laboratories   Adequacy of the US Science and Engineering Workforce   Science, Technology, Engineering, and Mathematics Education   Tax Incentives for Technological Innovation   Agriculture  Agricultural Research  Agricultural Biotechnology   Antibiotic Use in Food Producing Animals   Biomedical Research and Development   National Institutes of Health: Budget and the st Century Cures Act   The Food and Drug Administration FDA and the st Century Cures Act   Oversight of Laboratory-Developed Tests LDTs  Precision Medicine Initiative PMI   CRISPR: Advanced Genome Editing  Microbial Pathogens in the Laboratory: Safety and Security  Defense   Department of Defense Research and Development   Energy   Reprocess'"
      ]
     },
     "execution_count": 158,
     "metadata": {},
     "output_type": "execute_result"
    }
   ],
   "source": [
    "get_from_mongo(mongo_id = handler.doc_ids[1706], art_name = handler.doc_names[1706])[:3000]"
   ]
  },
  {
   "cell_type": "code",
   "execution_count": 109,
   "metadata": {},
   "outputs": [
    {
     "data": {
      "text/plain": [
       "array([1708, 3624, 3772, 3600, 2070,  837, 2696, 2646,  166, 2460])"
      ]
     },
     "execution_count": 109,
     "metadata": {},
     "output_type": "execute_result"
    }
   ],
   "source": [
    "rec_euclid.get_recommendations(new_article=house_hydro, model = lda_euclid, vectorizer=cv,\n",
    "                       training_vectors = lda_euclid.transform(X), n_neighbors = 10, method = 'lda_cv', metric = 'euclidean')"
   ]
  },
  {
   "cell_type": "code",
   "execution_count": 159,
   "metadata": {},
   "outputs": [
    {
     "data": {
      "text/plain": [
       "'Federal Depository Library Program: Issues for Congress R Eric Petersen Specialist in American National Government Jennifer E Manning Information Research Specialist Christina M Bailey Information Research Specialist March ,   Congressional Research Service - wwwcrs  R  CRS Report for Congress Prepared for Members and Committees of Congress  \\x0cFederal Depository Library Program: Issues for Congress  Summary Congress established the Federal Depository Library Program FDLP to provide free public access to federal government information The programs origins date to ; the current structure of the program was established in  and is overseen by the Government Printing Office GPO Access to government information is provided through a network of depository libraries across the United States In the past half-century, information creation, distribution, retention, and preservation has expanded from a tangible, paper-based process to include digital processes managed largely through computerized information technologies The transition to digital information raises a number of issues of possible interest to Congress This report discusses those possible concerns as they affect FDLP These issues, which are in some cases interrelated, may not only affect FDLP, but also extend beyond the program to a variety of contexts related to the management of government information in tangible and digital forms Issues include the following: maintenance and availability of the FDLP tangible collection; retention and preservation of digital information; access to FDLP resources; authenticity and accuracy of digital material; robustness of the FDLP Electronic Collection; and the costs of FDLP and other government information distribution initiatives The emergence of a predominantly digital FDLP may call the capacity of the statutory authorities GPO exercises into question Whereas GPO is the central point of distribution for tangible, printed FDLP materials, its responsibilities are more diverse, and may be less explicitly specified, regarding its distribution of digital information In some instances, GPO carries out activities to distribute digital information that are similar to its actions regarding printed materials In other instances, GPO provides access to digital content that it does not produce or control The agency has archiving and permanent retention authorities for tangible materials, but those authorities do not envision digital creation and distribution of government publications Digital distribution authorities provide for online access to publications, but are silent on GPOs retention and preservation responsibilities for digital information These concerns may be addressed in their own right, or in the context of user demand for FDLP information, for which there is no uniform metric A number of efforts related to FDLP have been initiated by GPO and groups representing a number of libraries that participate in FDLP These have included certain regional library act'"
      ]
     },
     "execution_count": 159,
     "metadata": {},
     "output_type": "execute_result"
    }
   ],
   "source": [
    "get_from_mongo(mongo_id = handler.doc_ids[2810], art_name = handler.doc_names[2810])[:3000]"
   ]
  },
  {
   "cell_type": "code",
   "execution_count": 112,
   "metadata": {},
   "outputs": [
    {
     "data": {
      "text/plain": [
       "array([2015, 2536, 2690, 2261, 3273, 2408,  959, 2274, 1010, 2057, 2143,\n",
       "       2292, 2270, 3256, 2281])"
      ]
     },
     "execution_count": 112,
     "metadata": {},
     "output_type": "execute_result"
    }
   ],
   "source": [
    "rec_euclid.get_recommendations(new_article=house_chip, model = lda_euclid, vectorizer=cv,\n",
    "                       training_vectors = lda_euclid.transform(X), n_neighbors = 15, method = 'lda_cv', metric = 'euclidean')"
   ]
  },
  {
   "cell_type": "markdown",
   "metadata": {},
   "source": [
    "<h1> Euclidean Distance + LDA + TFIDF </h1>"
   ]
  },
  {
   "cell_type": "code",
   "execution_count": 114,
   "metadata": {
    "collapsed": true
   },
   "outputs": [],
   "source": [
    "rec_euclid2 = recommender(handler)"
   ]
  },
  {
   "cell_type": "code",
   "execution_count": 115,
   "metadata": {
    "collapsed": true
   },
   "outputs": [],
   "source": [
    "X2 = tfidf.fit_transform(handler.get_all_texts())\n",
    "X2 = normalize(X2)"
   ]
  },
  {
   "cell_type": "code",
   "execution_count": 116,
   "metadata": {
    "collapsed": true
   },
   "outputs": [],
   "source": [
    "n_topics = 30\n",
    "n_iter = 30\n",
    "lda_euclid2 = LatentDirichletAllocation(n_components=n_topics,\n",
    "                                max_iter=n_iter,\n",
    "                                random_state=42,\n",
    "                               learning_method='online')"
   ]
  },
  {
   "cell_type": "code",
   "execution_count": 117,
   "metadata": {
    "collapsed": true
   },
   "outputs": [],
   "source": [
    "data_lda_tfidf_euclid = lda_euclid2.fit_transform(X2)"
   ]
  },
  {
   "cell_type": "code",
   "execution_count": 118,
   "metadata": {},
   "outputs": [
    {
     "data": {
      "text/plain": [
       "array([2594,  932, 2940, 1946, 2562, 1556, 1734, 2126, 2146, 2526])"
      ]
     },
     "execution_count": 118,
     "metadata": {},
     "output_type": "execute_result"
    }
   ],
   "source": [
    "rec_euclid2.get_recommendations(new_article=house_chip, model = lda_euclid2, vectorizer=tfidf,\n",
    "                       training_vectors = lda_euclid2.transform(X2), n_neighbors = 10, method = 'lda_tfidf', metric = 'euclidean')"
   ]
  },
  {
   "cell_type": "code",
   "execution_count": 167,
   "metadata": {},
   "outputs": [
    {
     "data": {
      "text/plain": [
       "'Medicaid Disproportionate Share Hospital Payments Alison Mitchell Specialist in Health Care Financing June ,   Congressional Research Service - wwwcrs  R  \\x0cMedicaid Disproportionate Share Hospital Payments  Summary The Medicaid statute requires states to make disproportionate share hospital DSH payments to hospitals treating large numbers of low-income patients This provision is intended to recognize the disadvantaged financial situation of those hospitals because low-income patients are more likely to be uninsured or Medicaid enrollees Hospitals often do not receive payment for services rendered to uninsured patients, and Medicaid provider payment rates are generally lower than the rates paid by Medicare and private insurance As with most Medicaid expenditures, the federal government reimburses states for a portion of their Medicaid DSH expenditures based on each states federal medical assistance percentage FMAP While most federal Medicaid funding is provided on an open-ended basis, federal Medicaid DSH funding is capped Each state receives an annual DSH allotment, which is the maximum amount of federal matching funds that each state is permitted to claim for Medicaid DSH payments In FY, federal DSH allotments totaled $ billion Built on the premise that the Patient Protection and Affordable Care Act ACA; PL -, as amended insurance coverage provisions including the ACA Medicaid expansion would reduce the number of uninsured individuals, the ACA included a provision directing the Secretary of the Department of Health and Human Services HHS to make aggregate reductions in federal Medicaid DSH allotments for each year from FY to FY Since the ACA, five laws have amended the DSH reductions Under current law, the Medicaid DSH reductions are to be in effect for FY through FY Although states must follow some federal requirements in defining DSH hospitals and calculating DSH payments, for the most part, states are provided significant flexibility One way the federal government restricts states Medicaid DSH payments is that the federal statute limits the amount of DSH payments for institutions for mental disease and other mental health facilities Since Medicaid DSH allotments were implemented in FY, total Medicaid DSH expenditures ie, including federal and state expenditures have remained relatively stable Over this same period of time, total Medicaid DSH expenditures as a percentage of total Medicaid medical assistance expenditures ie, including both federal and state expenditures but excluding expenditures for administrative activities dropped from  percent  to  percent  This report provides an overview of Medicaid DSH It includes a description of the rules delineating how state DSH allotments are calculated and the exceptions to the rules, how DSH hospitals are defined, and how DSH payments are calculated The DSH expenditures section shows the trends in DSH spending and explains variation in states DSH expenditures Finally, the basic requirements for st'"
      ]
     },
     "execution_count": 167,
     "metadata": {},
     "output_type": "execute_result"
    }
   ],
   "source": [
    "get_from_mongo(mongo_id = handler.doc_ids[2594], art_name = handler.doc_names[2594])[:3000]"
   ]
  },
  {
   "cell_type": "code",
   "execution_count": 120,
   "metadata": {},
   "outputs": [
    {
     "data": {
      "text/plain": [
       "array([2475,  984, 2752, 3541, 3172, 2296, 3063, 2978, 1415, 2084])"
      ]
     },
     "execution_count": 120,
     "metadata": {},
     "output_type": "execute_result"
    }
   ],
   "source": [
    "rec_euclid2.get_recommendations(new_article=house_hydro, model = lda_euclid2, vectorizer=tfidf,\n",
    "                       training_vectors = lda_euclid2.transform(X2), n_neighbors = 10, method = 'lda_tfidf', metric = 'euclidean')"
   ]
  },
  {
   "cell_type": "code",
   "execution_count": 166,
   "metadata": {},
   "outputs": [
    {
     "data": {
      "text/plain": [
       "'The Federal Minimum Wage: In Brief David H Bradley Specialist in Labor Economics June ,   Congressional Research Service - wwwcrs  R  \\x0cThe Federal Minimum Wage: In Brief  Summary The Fair Labor Standards Act FLSA, enacted in , is the federal legislation that establishes the minimum hourly wage that must be paid to all covered workers The minimum wage provisions of the FLSA have been amended numerous times since , typically for the purpose of expanding coverage or raising the wage rate Since its establishment, the minimum wage rate has been raised  separate times The most recent change was enacted in  PL -, which increased the minimum wage to its current level of $ per hour In addition to setting the federal minimum wage rate, the FLSA provides for several exemptions and subminimum wage categories for certain classes of workers and types of work Even with these exemptions, the FLSA minimum wage provisions still cover the vast majority of the workforce Despite this broad coverage, however, the minimum wage directly affects a relatively small portion of the workforce Currently, there are approximately  million workers, or  percent  of all hourly paid workers, whose wages are at or below the federal minimum wage of $ per hour Most minimum wage workers are female, are age  or older, work part time, and are in food service occupations Proponents of increasing the federal minimum wage argue that it may increase earnings for lower income workers, lead to reduced turnover, and increase aggregate demand by providing greater purchasing power for workers receiving a pay increase Opponents of increasing the federal minimum wage argue that it may result in reduced employment or reduced hours, lead to a general price increase, and reduce profits of firms paying a higher minimum wage  Congressional Research Service  \\x0cThe Federal Minimum Wage: In Brief  Contents The Federal Minimum Wage   FLSA Minimum Wage Coverage   Enterprise Coverage   Individual Coverage   Exemptions and Subminimum Wages   Excluded from FLSA Minimum Wage Coverage   Subminimum Wages   Characteristics of Minimum Wage Workers   State Minimum Wages  Arguments For and Against Raising the Minimum Wage   Arguments For Increasing the Minimum Wage   Increases Earnings   Increases Aggregate Demand   Reduces Inequality   Reduces Employee Turnover   Arguments Against Increasing the Minimum Wage   Reduces Employment   Does Not Reduce Poverty   Increases Prices   Reduces Profits    Tables Table  Selected Characteristics of Workers Earning at or Below the Federal Minimum Wage    Contacts Author Contact Information    Congressional Research Service  \\x0cThe Federal Minimum Wage: In Brief  The Federal Minimum Wage The Fair Labor Standards Act FLSA, enacted in , is the federal legislation that establishes the general minimum wage that must be paid to all covered workers A full discussion of the coverage of the minimum wage is beyond the scope of this report, which provides only a broad overview of the topic In ge'"
      ]
     },
     "execution_count": 166,
     "metadata": {},
     "output_type": "execute_result"
    }
   ],
   "source": [
    "get_from_mongo(mongo_id = handler.doc_ids[2475], art_name = handler.doc_names[2475])[:3000]"
   ]
  },
  {
   "cell_type": "markdown",
   "metadata": {},
   "source": [
    "<h1> Euclidean + NMF + CV </h1>"
   ]
  },
  {
   "cell_type": "markdown",
   "metadata": {},
   "source": [
    "1. Initialize an NMF"
   ]
  },
  {
   "cell_type": "code",
   "execution_count": 122,
   "metadata": {
    "collapsed": true
   },
   "outputs": [],
   "source": [
    "n_topics = 30\n",
    "n_iter = 30\n",
    "\n",
    "nmf_euclid = NMF(n_components=n_topics, max_iter=n_iter, random_state=42)"
   ]
  },
  {
   "cell_type": "code",
   "execution_count": 123,
   "metadata": {},
   "outputs": [],
   "source": [
    "X3 = normalize(cv.fit_transform(handler.get_all_texts()))"
   ]
  },
  {
   "cell_type": "markdown",
   "metadata": {},
   "source": [
    "Fit your data to your NMF"
   ]
  },
  {
   "cell_type": "code",
   "execution_count": 124,
   "metadata": {
    "collapsed": true
   },
   "outputs": [],
   "source": [
    "nmf_data_euclid = nmf_euclid.fit_transform(X3)"
   ]
  },
  {
   "cell_type": "code",
   "execution_count": 125,
   "metadata": {},
   "outputs": [
    {
     "data": {
      "text/plain": [
       "array([2690, 3078, 2499, 2143, 3273, 1654, 2408, 2388, 1707, 2418])"
      ]
     },
     "execution_count": 125,
     "metadata": {},
     "output_type": "execute_result"
    }
   ],
   "source": [
    "rec_euclid.get_recommendations(new_article=house_chip, \n",
    "                        model = nmf_euclid, \n",
    "                        vectorizer=cv,\n",
    "                        training_vectors=nmf.transform(X3), \n",
    "                        n_neighbors=10, method = 'nmf_cv', metric = 'euclidean')"
   ]
  },
  {
   "cell_type": "code",
   "execution_count": 165,
   "metadata": {},
   "outputs": [
    {
     "data": {
      "text/plain": [
       "'Health Insurance Exchanges Under the Patient Protection and Affordable Care Act ACA Bernadette Fernandez Specialist in Health Care Financing Annie L Mach Analyst in Health Care Financing January ,   Congressional Research Service - wwwcrs  R  CRS Report for Congress Prepared for Members and Committees of Congress  \\x0cHealth Insurance Exchanges Under the Patient Protection and Affordable Care Act ACA  Summary The fundamental purpose of a health insurance exchange is to provide a structured marketplace for the sale and purchase of health insurance The authority and responsibilities of an exchange may vary, depending on statutory or other requirements for its establishment and structure The Patient Protection and Affordable Care Act ACA, PL -, as amended requires health insurance exchanges to be established in every state by January ,  ACA provides certain requirements for the establishment of exchanges, while leaving other choices to be made by the states Qualified individuals and small businesses will be able to purchase private health insurance through exchanges Issuers selling health insurance plans through an exchange will have to follow certain rules, such as meeting the private market reform requirements in ACA While the fundamental purpose of the exchanges will be to facilitate the offer and purchase of health insurance, nothing in the law prohibits qualified individuals, qualified employers, and insurance carriers from participating in the health insurance market outside of exchanges Moreover, ACA explicitly states that enrollment in exchanges is voluntary and no individual may be compelled to enroll in exchange coverage Exchanges may be established either by the state itself as a state exchange or by the Secretary of Health and Human Services HHS as a federally-facilitated exchange A federally-facilitated exchange may be operated solely by the federal government, or it may be operated by the federal government in conjunction with the state, as a partnership exchange All exchanges are required to carry out many of the same functions and adhere to many of the same standards, although there are important differences between the types of exchanges States had to declare their intentions to establish their own exchange no later than December , ; to date,  states and DC have received conditional approval from HHS to operate a state exchange States interested in pursuing a partnership exchange must declare their intentions no later than February ,  ACA and regulations require exchanges to carry out a number of different functions The primary functions relate to determining eligibility and enrolling individuals in appropriate plans, plan management, consumer assistance and accountability, and financial management ACA gives various federal agencies, primarily HHS, responsibilities relating to the general operation of exchanges Federal agencies are generally responsible for promulgating regulations, creating criteria and systems, and awarding grants to'"
      ]
     },
     "execution_count": 165,
     "metadata": {},
     "output_type": "execute_result"
    }
   ],
   "source": [
    "get_from_mongo(handler.doc_ids[2690], handler.doc_names[2690])[:3000]"
   ]
  },
  {
   "cell_type": "code",
   "execution_count": 127,
   "metadata": {},
   "outputs": [
    {
     "data": {
      "text/plain": [
       "array([ 873, 2372, 3282, 2064, 1392, 2613, 3330, 2879, 2943, 1260])"
      ]
     },
     "execution_count": 127,
     "metadata": {},
     "output_type": "execute_result"
    }
   ],
   "source": [
    "rec_euclid.get_recommendations(new_article=house_hydro, \n",
    "                        model = nmf_euclid, \n",
    "                        vectorizer=cv,\n",
    "                        training_vectors=nmf.transform(X3), \n",
    "                        n_neighbors=10, method = 'nmf_cv', metric = 'euclidean')"
   ]
  },
  {
   "cell_type": "code",
   "execution_count": 164,
   "metadata": {},
   "outputs": [
    {
     "data": {
      "text/plain": [
       "'Waiver Authority Under the Renewable Fuel Standard RFS Brent D Yacobucci Section Research Manager September ,   Congressional Research Service - wwwcrs  RS  CRS Report for Congress Prepared for Members and Committees of Congress  \\x0cWaiver Authority Under the Renewable Fuel Standard RFS  Summary Transportation fuels are required by federal law to contain a minimum amount of renewable fuel each year This renewable fuel standard RFS, established by the Energy Policy Act of  EPAct, PL - and amended by the Energy Independence and Security Act of  EISA, PL -, requires that  billion gallons of renewable fuels be blended into gasoline and other transportation fuels in  Most of this mandate  percent  for  will be met using cornbased ethanol Other biofuels used to meet the remainder of the mandate include cellulosic biofuels, biomass-based diesel fuels, and other advanced biofuels Questions have been raised over whether the overall mandate diverts enough corn supply from food/feed production to dramatically raise prices in those markets, and whether there is enough feedstock supply and production capacity to meet the carveouts for fuels other than corn ethanol The Environmental Protection Agency EPA has the authority to waive the RFS requirements, in whole or in part, if certain conditions outlined in the law are present In  the governor of Texas requested a waiver of the RFS because of high grain prices, although that waiver request was denied because EPA determined that the RFS requirements alone did not severely harm the economy of a State, a region, or the United States, a standard required by the statute A similar waiver petition was filed by the governors of Arkansas and North Carolina in August  Under EPAct, the EPA administrator must approve or disapprove the petition within  days of receipt Because the governor of Arkansas submitted a petition letter to EPA on August , , EPA must respond by November ,  EPA requested comments on the petition, and extended that comment period through October ,  In February , as part of a final rulemaking implementing the RFS as expanded by EISA, EPA waived most of the  cellulosic biofuel carveoutEISA set the mandate at  million gallons but EPA only required  million gallons, more than  percent  less than scheduled by EISA EPA cited a lack of current and expected production capacity, driven largely by a lack of investment in commercial-scale refineries Further, for  and , EPA has reduced the cellulosic mandate to  million and  million gallons, respectively, well below the  million and  million gallons scheduled in EISA This report provides a brief overview of the RFS program and discusses the process and criteria for EPA to approve a waiver petition  Congressional Research Service  \\x0cWaiver Authority Under the Renewable Fuel Standard RFS  Contents Introduction  Current RFS Requirements  Waiver Provisions   General Waiver   Cellulosic Biofuel Waiver  Biomass-Based Diesel Waiver  Reductions in the RFS   Effects of a Waiv'"
      ]
     },
     "execution_count": 164,
     "metadata": {},
     "output_type": "execute_result"
    }
   ],
   "source": [
    "get_from_mongo(handler.doc_ids[873], handler.doc_names[873])[:3000]"
   ]
  },
  {
   "cell_type": "markdown",
   "metadata": {},
   "source": [
    "<h1> LSA + CV + Euclidean </h1>"
   ]
  },
  {
   "cell_type": "markdown",
   "metadata": {},
   "source": [
    "1. Initialize an LSA"
   ]
  },
  {
   "cell_type": "code",
   "execution_count": 129,
   "metadata": {
    "collapsed": true
   },
   "outputs": [],
   "source": [
    "n_topics = 30\n",
    "n_iter = 30\n",
    "\n",
    "lsa_euclid = TruncatedSVD(n_components = n_topics, n_iter = n_iter, random_state=42)\n"
   ]
  },
  {
   "cell_type": "markdown",
   "metadata": {},
   "source": [
    "Fit your data to your LSA"
   ]
  },
  {
   "cell_type": "code",
   "execution_count": 130,
   "metadata": {
    "collapsed": true
   },
   "outputs": [],
   "source": [
    "X4 = normalize(cv.fit_transform(handler.get_all_texts()))"
   ]
  },
  {
   "cell_type": "code",
   "execution_count": 131,
   "metadata": {
    "collapsed": true
   },
   "outputs": [],
   "source": [
    "lsa_cv_euclid_data = lsa_euclid.fit_transform(X4)\n"
   ]
  },
  {
   "cell_type": "code",
   "execution_count": 132,
   "metadata": {},
   "outputs": [
    {
     "data": {
      "text/plain": [
       "array([578, 747, 645, 519, 848, 487, 582, 565, 224, 466])"
      ]
     },
     "execution_count": 132,
     "metadata": {},
     "output_type": "execute_result"
    }
   ],
   "source": [
    "rec_euclid.get_recommendations(new_article=house_chip, \n",
    "                        model = lsa_euclid, \n",
    "                        vectorizer=cv,\n",
    "                        training_vectors=lsa.transform(X4), \n",
    "                        n_neighbors=10, method = 'lsa_cv', metric = 'euclidean')\n"
   ]
  },
  {
   "cell_type": "code",
   "execution_count": 162,
   "metadata": {},
   "outputs": [
    {
     "data": {
      "text/plain": [
       "'Cuba: Issues and Actions in the th Congress Mark P Sullivan Specialist in Latin American Affairs January ,   Congressional Research Service - wwwcrs  R  \\x0cCuba: Issues and Actions in the th Congress  Summary Cuba remains a one-party communist state with a poor record on human rights The countrys political succession in  from the long-ruling Fidel Castro to his brother Ral was characterized by a remarkable degree of stability In , Ral began his second and final fiveyear term, which is scheduled to end in February , when he would be  years of age Castro has implemented a number of market-oriented economic policy changes over the past several years An April  Cuban Communist Party congress endorsed the current gradual pace of Cuban economic reform Few observers expect the government to ease its tight control over the political system While the government has released most long-term political prisoners, shortterm detentions and harassment have increased significantly over the past several years US Policy Congress has played an active role in shaping policy toward Cuba, including the enactment of legislation strengthening and at times easing various US economic sanctions US policy over the years has consisted largely of isolating Cuba through economic sanctions, while a second policy component has consisted of support measures for the Cuban people, including US government-sponsored broadcasting and support for human rights and democracy projects In December , President Obama announced a major shift in US policy toward Cuba, moving away from a sanctions-based policy toward one of engagement and a normalization of relations The President maintained that the United States would continue to raise concerns about democracy and human rights in Cuba, but he emphasized that the United States could do more through engagement than isolation The policy change included the restoration of diplomatic relations July ; the rescission of Cubas designation as a state sponsor of international terrorism May ; and an increase in travel, commerce, and the flow of information to Cuba In order to implement this third step, the Treasury and Commerce Departments eased the embargo regulations five times most recently in October  in such areas as travel, remittances, trade, telecommunications, and financial services The overall embargo, however, remains in place, and can only be lifted with congressional action or if certain conditions in Cuba are met, including that a ically elected government is in place With the goal of advancing the normalization process, President Obama visited Cuba in March , the first visit of a US President to Cuba in almost  years On January , , President Obama announced a change in US immigration policy by ending the special treatment for undocumented Cuban migrants entering the United States Legislative Activity The Obama Administrations shift in Cuba policy has spurred strong interest in Congress Some Members lauded the initiative as in the best interes'"
      ]
     },
     "execution_count": 162,
     "metadata": {},
     "output_type": "execute_result"
    }
   ],
   "source": [
    "get_from_mongo(handler.doc_ids[578], handler.doc_names[578])[:3000]"
   ]
  }
 ],
 "metadata": {
  "kernelspec": {
   "display_name": "Python [py3.6]",
   "language": "python",
   "name": "Python [py3.6]"
  },
  "language_info": {
   "codemirror_mode": {
    "name": "ipython",
    "version": 3
   },
   "file_extension": ".py",
   "mimetype": "text/x-python",
   "name": "python",
   "nbconvert_exporter": "python",
   "pygments_lexer": "ipython3",
   "version": "3.6.2"
  }
 },
 "nbformat": 4,
 "nbformat_minor": 2
}
